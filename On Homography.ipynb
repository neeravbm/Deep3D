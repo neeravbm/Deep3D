{
 "cells": [
  {
   "cell_type": "markdown",
   "metadata": {},
   "source": [
    "Homography is a transformation of a plane from one coordinate system to another. An example is a plane checkerboard pattern as viewed from a camera. Expressed in homogeneous coordinates, a homography can be expressed as:\n",
    "\n",
    "\\begin{equation}\n",
    "\\begin{bmatrix} x \\\\ y \\\\ z \\end{bmatrix} = s \\matrix{H_{3\\times3}} \\begin{bmatrix} X \\\\ Y \\\\ 1 \\end{bmatrix}\n",
    "\\label{eq:homography}\n",
    "\\end{equation}\n",
    "\n",
    "where $s$ is a scaling factor. Ordinarily we don't know $x$, $y$, and $z$ but only $x' = \\frac{x}{z}$ and $y' = \\frac{y}{z}$. Hence eq. \\ref{eq:homography} can be rewritten as:\n",
    "\n",
    "\\begin{equation}\n",
    "x' (s h_{31} X + s h_{32} Y + s h_{33}) = s h_{11} X + s h_{12} Y + s h_{13}\\\\\n",
    "y' (s h_{31} X + s h_{32} Y + s h_{33}) = s h_{21} X + s h_{22} Y + s h_{23}\\\\\n",
    "\\end{equation}\n",
    "\n",
    "Canceling out the common scaling factor $s$ and vectorizing $\\matrix{H_{3\\times3}}$, we get\n",
    "\n",
    "\\begin{equation}\n",
    "\\begin{bmatrix}\n",
    "X & Y & 1 & 0 & 0 & 0 & -x'X & -x'Y & -x'\\\\\n",
    "0 & 0 & 0 & X & Y & 1 & -y'X & -y'Y & -y'\n",
    "\\end{bmatrix}\n",
    "\\begin{bmatrix} h_{11} \\\\ h_{12} \\\\ h_{13} \\\\ h_{21} \\\\ h_{22} \\\\ h_{23} \\\\ h_{31} \\\\ h_{32} \\\\ h_{33} \\end{bmatrix}\n",
    "= 0\n",
    "\\end{equation}\n",
    "\n",
    "Each point provides 2 such equations. Since equations are invariant to scale, we only need to know 8 parameters of $\\matrix{H_{3\\times3}}$. Hence using 4 point correspondences, we can determine homography completely. This method is known as DLT.\n",
    "\n",
    "Another way to solve this problem could have been to rewrite Eq. \\ref{eq:homography} as\n",
    "\n",
    "$$\n",
    "\\begin{align}\n",
    "\\begin{bmatrix} x' \\\\ y' \\\\ 1 \\end{bmatrix} & = \\frac{s}{z} \\matrix{H_{3\\times3}} \\begin{bmatrix} X \\\\ Y \\\\ 1 \\end{bmatrix}\\\\\n",
    "& = \\matrix{H_{3\\times3}}' \\begin{bmatrix} X \\\\ Y \\\\ 1 \\end{bmatrix}\n",
    "\\label{eq:incorrect_homography}\n",
    "\\end{align}\n",
    "$$\n",
    "\n",
    "where $\\matrix{H_{3\\times3}}' = \\frac{s}{z} \\matrix{H_{3\\times3}}$. We could have solved Eq. \\ref{eq:incorrect_homography} using DLT. One trivial solution for $h_{31}'$, $h_{32}'$ and $h_{33}'$ would be: $h_{31}' = 0$, $h_{32}' = 0$ and $h_{33}' = 1$. Unfortunately this method is not valid and will give incorrect results because while $\\matrix{H_{3\\times3}}$ is independent of point coordinates, $\\matrix{H_{3\\times3}}'$ is not and is dependent on $z$ coordinate of each point, which in turn is dependent on $X$ and $Y$ coordinates of each point, which are bound to be different. The only time this method will work is when $z$ value of every point on the plane is the same, i.e. in case of imaging a checkerboard pattern, the pattern is parallel to the camera's image plane. In that case, the last row of homography will be $\\begin{bmatrix} 0 & 0 & 1\\end{bmatrix}$."
   ]
  },
  {
   "cell_type": "code",
   "execution_count": null,
   "metadata": {
    "collapsed": true
   },
   "outputs": [],
   "source": []
  }
 ],
 "metadata": {
  "anaconda-cloud": {},
  "kernelspec": {
   "display_name": "C++",
   "language": "",
   "name": "cling"
  },
  "language_info": {
   "codemirror_mode": "text/x-c++src",
   "file_extension": ".c++",
   "mimetype": " text/x-c++src",
   "name": "c++"
  }
 },
 "nbformat": 4,
 "nbformat_minor": 1
}
