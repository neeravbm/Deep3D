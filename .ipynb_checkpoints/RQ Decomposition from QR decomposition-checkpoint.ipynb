{
 "cells": [
  {
   "cell_type": "markdown",
   "metadata": {},
   "source": [
    "We want to decompose a square matrix $\\matrix{M}$ into a product $\\matrix{R}\\matrix{Q}$ where $\\matrix{Q}$ is an orthogonal matrix and $\\matrix{R}$ is an upper triangular matrix of the form\n",
    "\n",
    "\\begin{equation}\n",
    "\\matrix{R} = \\begin{bmatrix} r_{11} & r_{12} & \\cdots & r_{1N} \\\\\n",
    "0 & r_{22} & \\cdots & r_{2N} \\\\\n",
    "\\vdots & \\vdots & \\ddots & \\vdots \\\\\n",
    "0 & 0 & \\cdots & r_{NN} \\\\\n",
    "\\end{bmatrix}\n",
    "\\end{equation}\n",
    "\n",
    "Let $\\matrix{P}$ be a permutation matrix.\n",
    "\n",
    "\\begin{equation}\n",
    "\\matrix{P} = \\begin{bmatrix} 0 & 0 & \\cdots & 0 & 1\\\\\n",
    "0 & 0 & \\cdots & 1 & 0 \\\\\n",
    "0 & 0 & \\unicode{x22F0} & 0 & 0\\\\\n",
    "0 & 1 & \\cdots & 0 & 0\\\\\n",
    "1 & 0 & \\cdots & 0 & 0\n",
    "\\end{bmatrix}\n",
    "\\end{equation}\n",
    "\n",
    "Left-multiplying any matrix with $\\matrix{P}$ reverses the order of rows in the matrix. Right-multiplying any matrix with $\\matrix{P}$ reverses the order of columns in the matrix. We can confirm that $\\matrix{P} = \\matrix{P}^{-1} = \\matrix{P}^T$.\n",
    "\n",
    "We have\n",
    "\n",
    "$$\n",
    "\\matrix{M} = \\matrix{R} \\matrix{Q} \\\\\n",
    "\\therefore \\matrix{M}^T = \\matrix{Q}^T \\matrix{R}^T \\\\\n",
    "\\begin{align}\n",
    "\\therefore \\matrix{M}^T \\matrix{P} & = \\matrix{Q}^T \\matrix{R}^T \\matrix{P} \\\\\n",
    "& = \\matrix{Q}^T \\matrix{P}^{-1} \\matrix{P} \\matrix{R}^T \\matrix{P}\\\\\n",
    "& = \\matrix{Q}^T \\matrix{P} \\matrix{P} \\matrix{R}^T \\matrix{P} \\\\\n",
    "& = (\\matrix{Q}^T \\matrix{P}) (\\matrix{P} \\matrix{R}^T \\matrix{P})\n",
    "\\end{align}\n",
    "$$\n",
    "\n",
    "Let $\\matrix{\\tilde{Q}} = \\matrix{Q}^T \\matrix{P}$, an orthogonal matrix and $\\matrix{\\tilde{R}} = \\matrix{P} \\matrix{R}^T \\matrix{P}$, an upper triangular matrix. This implies that $\\matrix{\\tilde{Q}}$ and $\\matrix{\\tilde{R}}$ can be obtained using QR factorization of $\\matrix{\\tilde{M}} = \\matrix{M}^T \\matrix{P}$.\n",
    "\n",
    "\\begin{equation}\n",
    "\\therefore \\matrix{R} = \\matrix{P} \\matrix{\\tilde{R}}^T \\matrix{P}, \\text{and}\\\\\n",
    "\\matrix{Q} = \\matrix{P} \\matrix{\\tilde{Q}}^T\n",
    "\\end{equation}\n",
    "\n",
    "So the steps to get RQ decomposition of $\\matrix{M}$ are:\n",
    "\n",
    "1. Create $\\matrix{\\tilde{M}}$ from $\\matrix{M}$ by transposing and reversing the order of columns.\n",
    "2. Do QR decomposition of $\\matrix{\\tilde{M}}$ to get $\\matrix{\\tilde{Q}}$ and $\\matrix{\\tilde{R}}$.\n",
    "3. RQ decompsition of $\\matrix{M}$ is $(\\matrix{P} \\matrix{\\tilde{R}}^T \\matrix{P})(\\matrix{P} \\matrix{\\tilde{Q}}^T)$."
   ]
  },
  {
   "cell_type": "code",
   "execution_count": 1,
   "metadata": {
    "collapsed": false
   },
   "outputs": [
    {
     "data": {
      "text/plain": []
     },
     "execution_count": 1,
     "metadata": {},
     "output_type": "execute_result"
    }
   ],
   "source": [
    ".I /Users/neeravbm/Documents/libs/Eigen\n"
   ]
  },
  {
   "cell_type": "code",
   "execution_count": 2,
   "metadata": {
    "collapsed": false
   },
   "outputs": [
    {
     "data": {
      "text/plain": []
     },
     "execution_count": 2,
     "metadata": {},
     "output_type": "execute_result"
    }
   ],
   "source": [
    ".L /Users/neeravbm/Documents/libs/Eigen/Eigen/QR"
   ]
  },
  {
   "cell_type": "code",
   "execution_count": 3,
   "metadata": {
    "collapsed": false
   },
   "outputs": [
    {
     "data": {
      "text/plain": [
       "(Eigen::MatrixXd &) @0x10e586148\n"
      ]
     },
     "execution_count": 3,
     "metadata": {},
     "output_type": "execute_result"
    }
   ],
   "source": [
    "Eigen::MatrixXd M = Eigen::MatrixXd::Random(3, 3);"
   ]
  },
  {
   "cell_type": "code",
   "execution_count": 4,
   "metadata": {
    "collapsed": false
   },
   "outputs": [
    {
     "data": {
      "text/plain": []
     },
     "execution_count": 4,
     "metadata": {},
     "output_type": "execute_result"
    }
   ],
   "source": [
    "#include <iostream>"
   ]
  },
  {
   "cell_type": "code",
   "execution_count": 5,
   "metadata": {
    "collapsed": false
   },
   "outputs": [
    {
     "name": "stdout",
     "output_type": "stream",
     "text": [
      "-0.837472  0.341366 -0.245998\n",
      " 0.610067 -0.655124 -0.481975\n",
      "-0.606632  -0.66331 -0.548442\n"
     ]
    },
    {
     "data": {
      "text/plain": [
       "(std::__1::basic_ostream &) @0x7fff7b38f2f8\n"
      ]
     },
     "execution_count": 5,
     "metadata": {},
     "output_type": "execute_result"
    }
   ],
   "source": [
    "std::cout << M << std::endl;"
   ]
  },
  {
   "cell_type": "markdown",
   "metadata": {},
   "source": [
    "`.rowwise().reverse()` changes the order of columns."
   ]
  },
  {
   "cell_type": "code",
   "execution_count": 6,
   "metadata": {
    "collapsed": false
   },
   "outputs": [
    {
     "name": "stdout",
     "output_type": "stream",
     "text": [
      "-0.606632  0.610067 -0.837472\n",
      " -0.66331 -0.655124  0.341366\n",
      "-0.548442 -0.481975 -0.245998\n"
     ]
    },
    {
     "data": {
      "text/plain": [
       "(std::__1::basic_ostream &) @0x7fff7b38f2f8\n"
      ]
     },
     "execution_count": 6,
     "metadata": {},
     "output_type": "execute_result"
    }
   ],
   "source": [
    "Eigen::MatrixXd M_tilde = M.transpose().rowwise().reverse();\n",
    "std::cout << M_tilde << std::endl;"
   ]
  },
  {
   "cell_type": "code",
   "execution_count": 7,
   "metadata": {
    "collapsed": false
   },
   "outputs": [
    {
     "data": {
      "text/plain": []
     },
     "execution_count": 7,
     "metadata": {},
     "output_type": "execute_result"
    }
   ],
   "source": [
    ".L /Users/neeravbm/Documents/libs/Eigen/Eigen/src/QR/HouseholderQR.h"
   ]
  },
  {
   "cell_type": "code",
   "execution_count": 8,
   "metadata": {
    "collapsed": false
   },
   "outputs": [
    {
     "name": "stdout",
     "output_type": "stream",
     "text": [
      " -0.576108   0.816449 -0.0388676\n",
      " -0.629935  -0.473795  -0.615387\n",
      " -0.520847  -0.330045   0.787267\n"
     ]
    },
    {
     "data": {
      "text/plain": [
       "(std::__1::basic_ostream &) @0x7fff7b38f2f8\n"
      ]
     },
     "execution_count": 8,
     "metadata": {},
     "output_type": "execute_result"
    }
   ],
   "source": [
    "Eigen::HouseholderQR<Eigen::MatrixXd> qr(M_tilde);\n",
    "Eigen::MatrixXd Q_tilde, R_tilde;\n",
    "Q_tilde = qr.householderQ();\n",
    "std::cout << Q_tilde << std::endl;"
   ]
  },
  {
   "cell_type": "code",
   "execution_count": 9,
   "metadata": {
    "collapsed": false
   },
   "outputs": [
    {
     "name": "stdout",
     "output_type": "stream",
     "text": [
      "  1.05298  0.312255  0.395563\n",
      "        0  0.967556   -0.7643\n",
      "        0         0 -0.371187\n"
     ]
    },
    {
     "data": {
      "text/plain": [
       "(std::__1::basic_ostream &) @0x7fff7b38f2f8\n"
      ]
     },
     "execution_count": 9,
     "metadata": {},
     "output_type": "execute_result"
    }
   ],
   "source": [
    "R_tilde = qr.matrixQR().template  triangularView<Eigen::Upper>();\n",
    "std::cout << R_tilde << std::endl;"
   ]
  },
  {
   "cell_type": "code",
   "execution_count": 10,
   "metadata": {
    "collapsed": false
   },
   "outputs": [
    {
     "name": "stdout",
     "output_type": "stream",
     "text": [
      "-0.371187   -0.7643  0.395563\n",
      "        0  0.967556  0.312255\n",
      "        0         0   1.05298\n"
     ]
    },
    {
     "data": {
      "text/plain": [
       "(std::__1::basic_ostream &) @0x7fff7b38f2f8\n"
      ]
     },
     "execution_count": 10,
     "metadata": {},
     "output_type": "execute_result"
    }
   ],
   "source": [
    "Eigen::MatrixXd R = R_tilde.transpose().rowwise().reverse().colwise().reverse();\n",
    "std::cout << R << std::endl;"
   ]
  },
  {
   "cell_type": "code",
   "execution_count": 11,
   "metadata": {
    "collapsed": false
   },
   "outputs": [
    {
     "name": "stdout",
     "output_type": "stream",
     "text": [
      "-0.0388676  -0.615387   0.787267\n",
      "  0.816449  -0.473795  -0.330045\n",
      " -0.576108  -0.629935  -0.520847\n"
     ]
    },
    {
     "data": {
      "text/plain": [
       "(std::__1::basic_ostream &) @0x7fff7b38f2f8\n"
      ]
     },
     "execution_count": 11,
     "metadata": {},
     "output_type": "execute_result"
    }
   ],
   "source": [
    "Eigen::MatrixXd Q = Q_tilde.transpose().colwise().reverse();\n",
    "std::cout << Q << std::endl;"
   ]
  },
  {
   "cell_type": "code",
   "execution_count": 12,
   "metadata": {
    "collapsed": false
   },
   "outputs": [
    {
     "name": "stdout",
     "output_type": "stream",
     "text": [
      "Error: -1.11022e-16 -2.77556e-16 -1.11022e-16\n",
      "           0  1.11022e-16            0\n",
      "           0            0  1.11022e-16\n"
     ]
    },
    {
     "data": {
      "text/plain": [
       "(std::__1::basic_ostream &) @0x7fff7b38f2f8\n"
      ]
     },
     "execution_count": 12,
     "metadata": {},
     "output_type": "execute_result"
    }
   ],
   "source": [
    "std::cout << \"Error: \" << M - R * Q << std::endl;"
   ]
  }
 ],
 "metadata": {
  "anaconda-cloud": {},
  "kernelspec": {
   "display_name": "C++",
   "language": "",
   "name": "cling"
  },
  "language_info": {
   "codemirror_mode": "text/x-c++src",
   "file_extension": ".c++",
   "mimetype": " text/x-c++src",
   "name": "c++"
  }
 },
 "nbformat": 4,
 "nbformat_minor": 1
}
