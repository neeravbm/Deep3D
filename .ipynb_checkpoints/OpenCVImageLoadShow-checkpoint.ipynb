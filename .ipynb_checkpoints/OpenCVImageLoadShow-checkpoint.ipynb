{
 "cells": [
  {
   "cell_type": "markdown",
   "metadata": {},
   "source": [
    "# Read an image from file, convert to gray scale and write image to file"
   ]
  },
  {
   "cell_type": "markdown",
   "metadata": {},
   "source": [
    "Add path to the OpenCV include directory."
   ]
  },
  {
   "cell_type": "code",
   "execution_count": 1,
   "metadata": {
    "collapsed": false
   },
   "outputs": [
    {
     "data": {
      "text/plain": []
     },
     "execution_count": 1,
     "metadata": {},
     "output_type": "execute_result"
    }
   ],
   "source": [
    ".I /Users/neeravbm/OpenCV/build/include"
   ]
  },
  {
   "cell_type": "markdown",
   "metadata": {},
   "source": [
    "Load the OpenCV `core` library."
   ]
  },
  {
   "cell_type": "code",
   "execution_count": 2,
   "metadata": {
    "collapsed": false
   },
   "outputs": [
    {
     "data": {
      "text/plain": []
     },
     "execution_count": 2,
     "metadata": {},
     "output_type": "execute_result"
    }
   ],
   "source": [
    ".L /Users/neeravbm/OpenCV/build/lib/libopencv_core.dylib"
   ]
  },
  {
   "cell_type": "markdown",
   "metadata": {},
   "source": [
    "Load the OpenCV `imgcodecs` library. This is needed for the `imwrite()` function."
   ]
  },
  {
   "cell_type": "code",
   "execution_count": 3,
   "metadata": {
    "collapsed": false
   },
   "outputs": [
    {
     "data": {
      "text/plain": []
     },
     "execution_count": 3,
     "metadata": {},
     "output_type": "execute_result"
    }
   ],
   "source": [
    ".L /Users/neeravbm/OpenCV/build/lib/libopencv_imgcodecs.dylib"
   ]
  },
  {
   "cell_type": "markdown",
   "metadata": {},
   "source": [
    "Load the OpenCV `highgui` library. This is needed for the `imread()` function."
   ]
  },
  {
   "cell_type": "code",
   "execution_count": 4,
   "metadata": {
    "collapsed": false
   },
   "outputs": [
    {
     "data": {
      "text/plain": []
     },
     "execution_count": 4,
     "metadata": {},
     "output_type": "execute_result"
    }
   ],
   "source": [
    ".L /Users/neeravbm/OpenCV/build/lib/libopencv_highgui.dylib\t"
   ]
  },
  {
   "cell_type": "markdown",
   "metadata": {},
   "source": [
    "Include the necessary header files. `opencv.hpp` includes a lot of header files. We could have cherry-picked and added only the required once."
   ]
  },
  {
   "cell_type": "code",
   "execution_count": 5,
   "metadata": {
    "collapsed": false,
    "scrolled": true
   },
   "outputs": [
    {
     "data": {
      "text/plain": []
     },
     "execution_count": 5,
     "metadata": {},
     "output_type": "execute_result"
    }
   ],
   "source": [
    "#include <opencv2/opencv.hpp>\n",
    "#include <iostream>"
   ]
  },
  {
   "cell_type": "markdown",
   "metadata": {},
   "source": [
    "1. Load the image from file.\n",
    "2. Convert the image to grayscale.\n",
    "3. Write the image to file."
   ]
  },
  {
   "cell_type": "code",
   "execution_count": 6,
   "metadata": {
    "collapsed": false,
    "scrolled": false
   },
   "outputs": [
    {
     "name": "stderr",
     "output_type": "stream",
     "text": [
      "\n",
      "bit length overflow\n",
      "code 16 bits 6->7\n",
      "\n",
      "bit length overflow\n",
      "code 7 bits 6->7\n",
      "\n",
      "bit length overflow\n",
      "code 17 bits 6->7\n",
      "\n",
      "bit length overflow\n",
      "code 11 bits 6->5\n",
      "code 12 bits 4->5\n",
      "\n",
      "bit length overflow\n",
      "code 17 bits 6->7\n",
      "\n",
      "bit length overflow\n",
      "code 17 bits 6->7\n",
      "code 7 bits 6->7\n",
      "\n",
      "bit length overflow\n",
      "code 17 bits 6->7\n",
      "\n",
      "bit length overflow\n",
      "code 7 bits 6->7\n"
     ]
    },
    {
     "data": {
      "text/plain": [
       "(bool) true\n"
      ]
     },
     "execution_count": 6,
     "metadata": {},
     "output_type": "execute_result"
    }
   ],
   "source": [
    "cv::Mat image = cv::imread(\"/Users/neeravbm/Downloads/random-image-19.png\", CV_LOAD_IMAGE_COLOR);\n",
    "cv::Mat bwImage;\n",
    "cv::cvtColor(image, bwImage, cv::COLOR_RGB2GRAY);\n",
    "cv::imwrite(\"random-image-20.png\", bwImage);"
   ]
  },
  {
   "cell_type": "markdown",
   "metadata": {},
   "source": [
    "Here's the image that written to the disk."
   ]
  },
  {
   "cell_type": "markdown",
   "metadata": {},
   "source": [
    "![Random Image](random-image-20.png)"
   ]
  },
  {
   "cell_type": "code",
   "execution_count": null,
   "metadata": {
    "collapsed": true
   },
   "outputs": [],
   "source": []
  }
 ],
 "metadata": {
  "anaconda-cloud": {},
  "kernelspec": {
   "display_name": "C++",
   "language": "",
   "name": "cling"
  },
  "language_info": {
   "codemirror_mode": "text/x-c++src",
   "file_extension": ".c++",
   "mimetype": " text/x-c++src",
   "name": "c++"
  }
 },
 "nbformat": 4,
 "nbformat_minor": 0
}
