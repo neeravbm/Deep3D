{
 "cells": [
  {
   "cell_type": "markdown",
   "metadata": {},
   "source": [
    "# Color Camera Calibration"
   ]
  },
  {
   "cell_type": "markdown",
   "metadata": {},
   "source": [
    "Ideal pin-hole camera model is given by:\n",
    "\\begin{equation}\n",
    "\\begin{bmatrix} x \\\\ y \\\\ 1 \\end{bmatrix} = \n",
    "  \\frac{1}{\\lambda} \\begin{bmatrix} f_x & s & u_0 \\\\ 0 & f_y & v_0 \\\\ 0 & 0 & 1 \\end{bmatrix} \n",
    "  \\begin{bmatrix} \\matrix{R_{3\\times3}} & \\matrix{T_{3\\times1}} \\end{bmatrix}\n",
    "  \\begin{bmatrix} X \\\\ Y \\\\ Z \\\\ 1 \\end{bmatrix}\n",
    "  \\label{eq:full}\n",
    "\\end{equation}\n",
    "where  \n",
    "$x$, $y$ are the image coordinates,  \n",
    "$X$, $Y$, $Z$ are the world-coordinates of the point to be imaged,  \n",
    "$f_x$, $f_y$ are the focal lenghts in $x$ and $y$ image axes,  \n",
    "$s$ is the skew between $x$ and $y$ image axes,  \n",
    "$(u_0, v_0)$ is the image center (intersection of image plane with principal axis),  \n",
    "$\\matrix{R_{3\\times3}}$, $\\matrix{T_{3\\times3}}$ are the extrinsic camera parameters, and  \n",
    "$\\lambda$ is the scale factor.\n",
    "\n",
    "Goal of camera calibration is to determine the above parameters from one or more images. Eq. \\ref{eq:full} can be written as:\n",
    "\n",
    "\\begin{equation}\n",
    "    \\lambda \\begin{bmatrix} x \\\\ y \\\\ 1 \\end{bmatrix} = \n",
    "    \\matrix{M_{3\\times4}}\n",
    "    \\begin{bmatrix} X \\\\ Y \\\\ Z \\\\ 1 \\end{bmatrix}\n",
    "\\end{equation}\n",
    "\n",
    "where\n",
    "\n",
    "\\begin{equation}\n",
    "  \\matrix{M_{3\\times4}} = \\begin{bmatrix} f_x & s & u_0 \\\\ 0 & f_y & v_0 \\\\ 0 & 0 & 1 \\end{bmatrix} \n",
    "  \\begin{bmatrix} \\matrix{R_{3\\times3}} & \\matrix{T_{3\\times1}} \\end{bmatrix}\n",
    "  \\end{equation}"
   ]
  },
  {
   "cell_type": "code",
   "execution_count": null,
   "metadata": {
    "collapsed": true
   },
   "outputs": [],
   "source": [
    "We"
   ]
  }
 ],
 "metadata": {
  "anaconda-cloud": {},
  "kernelspec": {
   "display_name": "C++",
   "language": "",
   "name": "cling"
  },
  "language_info": {
   "codemirror_mode": "text/x-c++src",
   "file_extension": ".c++",
   "mimetype": " text/x-c++src",
   "name": "c++"
  }
 },
 "nbformat": 4,
 "nbformat_minor": 0
}
