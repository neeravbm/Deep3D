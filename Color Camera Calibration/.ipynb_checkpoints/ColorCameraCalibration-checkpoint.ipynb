{
 "cells": [
  {
   "cell_type": "markdown",
   "metadata": {},
   "source": [
    "# Color Camera Calibration"
   ]
  },
  {
   "cell_type": "markdown",
   "metadata": {},
   "source": [
    "In homogeneous coordinates, ideal pin-hole camera model is given by:\n",
    "\\begin{equation}\n",
    "\\begin{bmatrix} x \\\\ y \\\\ z \\end{bmatrix} = \n",
    "  \\frac{1}{\\lambda} \\begin{bmatrix} f_x & s & u_0 \\\\ 0 & f_y & v_0 \\\\ 0 & 0 & 1 \\end{bmatrix} \n",
    "  \\begin{bmatrix} \\matrix{R_{3\\times3}} & \\matrix{T_{3\\times1}} \\end{bmatrix}\n",
    "  \\begin{bmatrix} X \\\\ Y \\\\ Z \\\\ 1 \\end{bmatrix}\n",
    "  \\label{eq:full}\n",
    "\\end{equation}\n",
    "where  \n",
    "$x$, $y$ are the image coordinates,  \n",
    "$X$, $Y$, $Z$ are the world-coordinates of the point to be imaged,  \n",
    "$f_x$, $f_y$ are the focal lenghts in $x$ and $y$ image axes,  \n",
    "$s$ is the skew between $x$ and $y$ image axes,  \n",
    "$(u_0, v_0)$ is the image center (intersection of image plane with principal axis),  \n",
    "$\\matrix{R_{3\\times3}}$, $\\matrix{T_{3\\times3}}$ are the extrinsic camera parameters, and  \n",
    "$\\lambda$ is the scale factor.\n",
    "\n",
    "Goal of camera calibration is to determine the above parameters from one or more images. Eq. \\ref{eq:full} can be written as:\n",
    "\n",
    "\\begin{equation}\n",
    "    \\lambda \\begin{bmatrix} x \\\\ y \\\\ z \\end{bmatrix} = \n",
    "    \\matrix{M_{3\\times4}}\n",
    "    \\begin{bmatrix} X \\\\ Y \\\\ Z \\\\ 1 \\end{bmatrix}\n",
    "\\end{equation}\n",
    "\n",
    "where\n",
    "\n",
    "\\begin{equation}\n",
    "  \\matrix{M_{3\\times4}} = \\begin{bmatrix} f_x & s & u_0 \\\\ 0 & f_y & v_0 \\\\ 0 & 0 & 1 \\end{bmatrix} \n",
    "  \\begin{bmatrix} \\matrix{R_{3\\times3}} & \\matrix{T_{3\\times1}} \\end{bmatrix}\n",
    "\\end{equation}\n",
    "  \n",
    "We are going to be using the following checkerboard pattern for calibration.\n",
    "\n",
    "![9 x 7 checkerboard pattern](images/camera-calibration-checker-board_9x7.png)\n",
    "\n",
    "Since the pattern lies in a plane, without loss of generality, we can assume that it lies on the plane $Z = 0$ in the world reference."
   ]
  },
  {
   "cell_type": "markdown",
   "metadata": {},
   "source": [
    "OpenCV include files are located in `/Users/neeravbm/Documents/libs/opencv/dist/osx-release-clang/build/x86_64-MacOSX/install/include` directory and `/Users/neeravbm/Documents/libs/opencv/dist/osx-release-clang/build/x86_64-MacOSX/install/lib` is in library search path. Add the include path."
   ]
  },
  {
   "cell_type": "code",
   "execution_count": 1,
   "metadata": {
    "collapsed": false
   },
   "outputs": [
    {
     "data": {
      "text/plain": []
     },
     "execution_count": 1,
     "metadata": {},
     "output_type": "execute_result"
    }
   ],
   "source": [
    ".I /Users/neeravbm/Documents/libs/OpenCV/builds/osx-shared-release-clang/dist/include"
   ]
  },
  {
   "cell_type": "markdown",
   "metadata": {},
   "source": [
    "Load the OpenCV `core` library."
   ]
  },
  {
   "cell_type": "code",
   "execution_count": 2,
   "metadata": {
    "collapsed": false
   },
   "outputs": [
    {
     "data": {
      "text/plain": []
     },
     "execution_count": 2,
     "metadata": {},
     "output_type": "execute_result"
    }
   ],
   "source": [
    ".L /Users/neeravbm/Documents/libs/OpenCV/builds/osx-shared-release-clang/dist/lib/libopencv_core.dylib"
   ]
  },
  {
   "cell_type": "markdown",
   "metadata": {},
   "source": [
    "Load the OpenCV `imgproc` library. This is needed since we are using `cv::CvSize` struct."
   ]
  },
  {
   "cell_type": "code",
   "execution_count": 3,
   "metadata": {
    "collapsed": false
   },
   "outputs": [
    {
     "data": {
      "text/plain": []
     },
     "execution_count": 3,
     "metadata": {},
     "output_type": "execute_result"
    }
   ],
   "source": [
    ".L /Users/neeravbm/Documents/libs/OpenCV/builds/osx-shared-release-clang/dist/lib/libopencv_imgproc.dylib"
   ]
  },
  {
   "cell_type": "markdown",
   "metadata": {},
   "source": [
    "Load the OpenCV `highgui` library, which is needed for `imread()` function."
   ]
  },
  {
   "cell_type": "code",
   "execution_count": 4,
   "metadata": {
    "collapsed": false
   },
   "outputs": [
    {
     "data": {
      "text/plain": []
     },
     "execution_count": 4,
     "metadata": {},
     "output_type": "execute_result"
    }
   ],
   "source": [
    ".L /Users/neeravbm/Documents/libs/OpenCV/builds/osx-shared-release-clang/dist/lib/libopencv_highgui.dylib"
   ]
  },
  {
   "cell_type": "markdown",
   "metadata": {},
   "source": [
    "Load the OpenCV `calib3d` library, which is needed for `findChessboardCorners()` function."
   ]
  },
  {
   "cell_type": "code",
   "execution_count": 5,
   "metadata": {
    "collapsed": false
   },
   "outputs": [
    {
     "data": {
      "text/plain": []
     },
     "execution_count": 5,
     "metadata": {},
     "output_type": "execute_result"
    }
   ],
   "source": [
    ".L /Users/neeravbm/Documents/libs/OpenCV/builds/osx-shared-release-clang/dist/lib/libopencv_calib3d.dylib"
   ]
  },
  {
   "cell_type": "code",
   "execution_count": 6,
   "metadata": {
    "collapsed": false
   },
   "outputs": [
    {
     "data": {
      "text/plain": []
     },
     "execution_count": 6,
     "metadata": {},
     "output_type": "execute_result"
    }
   ],
   "source": [
    "#include <opencv2/opencv.hpp>"
   ]
  },
  {
   "cell_type": "code",
   "execution_count": 7,
   "metadata": {
    "collapsed": false
   },
   "outputs": [
    {
     "data": {
      "text/plain": []
     },
     "execution_count": 7,
     "metadata": {},
     "output_type": "execute_result"
    }
   ],
   "source": [
    "#include <opencv2/imgproc.hpp>"
   ]
  },
  {
   "cell_type": "code",
   "execution_count": 8,
   "metadata": {
    "collapsed": false
   },
   "outputs": [
    {
     "data": {
      "text/plain": []
     },
     "execution_count": 8,
     "metadata": {},
     "output_type": "execute_result"
    }
   ],
   "source": [
    "#include <vector>"
   ]
  },
  {
   "cell_type": "code",
   "execution_count": 9,
   "metadata": {
    "collapsed": false
   },
   "outputs": [
    {
     "data": {
      "text/plain": []
     },
     "execution_count": 9,
     "metadata": {},
     "output_type": "execute_result"
    }
   ],
   "source": [
    "#include <iostream>"
   ]
  },
  {
   "cell_type": "markdown",
   "metadata": {},
   "source": [
    "Read the pattern from the file."
   ]
  },
  {
   "cell_type": "code",
   "execution_count": 10,
   "metadata": {
    "collapsed": false
   },
   "outputs": [
    {
     "data": {
      "text/plain": [
       "(cv::Mat &) @0x10b960930\n"
      ]
     },
     "execution_count": 10,
     "metadata": {},
     "output_type": "execute_result"
    }
   ],
   "source": [
    "cv::Mat pattern = cv::imread(\"images/camera-calibration-checker-board_9x7.png\", CV_LOAD_IMAGE_GRAYSCALE);"
   ]
  },
  {
   "cell_type": "markdown",
   "metadata": {},
   "source": [
    "Use OpenCV's `findChessboardCorners()` function with `CALIB_CB_FAST_CHECK` flag to see if a calibration pattern was found in the pattern image."
   ]
  },
  {
   "cell_type": "code",
   "execution_count": 11,
   "metadata": {
    "collapsed": false
   },
   "outputs": [
    {
     "name": "stdout",
     "output_type": "stream",
     "text": [
      "1\n"
     ]
    },
    {
     "data": {
      "text/plain": [
       "(std::__1::basic_ostream &) @0x7fffb1f8d660\n"
      ]
     },
     "execution_count": 11,
     "metadata": {},
     "output_type": "execute_result"
    }
   ],
   "source": [
    "std::vector<cv::Point2f> corners;\n",
    "bool patternFound = cv::findChessboardCorners(pattern, cv::Size(7, 9), corners, cv::CALIB_CB_FAST_CHECK);\n",
    "std::cout << patternFound << std::endl;"
   ]
  },
  {
   "cell_type": "markdown",
   "metadata": {},
   "source": [
    "If calibration pattern was not found, then print an error and return."
   ]
  },
  {
   "cell_type": "code",
   "execution_count": 12,
   "metadata": {
    "collapsed": false
   },
   "outputs": [
    {
     "data": {
      "text/plain": []
     },
     "execution_count": 12,
     "metadata": {},
     "output_type": "execute_result"
    }
   ],
   "source": [
    "if (!patternFound) {\n",
    "    std::cerr << \"Calibration pattern was not found.\" << std::endl;\n",
    "    return -1;\n",
    "}"
   ]
  },
  {
   "cell_type": "markdown",
   "metadata": {},
   "source": [
    "If calibration pattern was found, refine the corner estimates further using OpenCV's `cornerSubPix()` function. This is a sample code copied from OpenCV's website. I still need to look in more details what it exactly does."
   ]
  },
  {
   "cell_type": "code",
   "execution_count": 13,
   "metadata": {
    "collapsed": false
   },
   "outputs": [
    {
     "data": {
      "text/plain": [
       "(void) @0x7fff557a8f48\n"
      ]
     },
     "execution_count": 13,
     "metadata": {},
     "output_type": "execute_result"
    }
   ],
   "source": [
    "cv::cornerSubPix(pattern, corners, cv::Size(11, 11), cv::Size(-1, -1), cv::TermCriteria(CV_TERMCRIT_EPS + CV_TERMCRIT_ITER, 30, 0.1));"
   ]
  },
  {
   "cell_type": "markdown",
   "metadata": {},
   "source": [
    "Draw the corners on the image using OpenCV's `drawChessboardCorners()` function."
   ]
  },
  {
   "cell_type": "code",
   "execution_count": 14,
   "metadata": {
    "collapsed": false
   },
   "outputs": [
    {
     "data": {
      "text/plain": [
       "(void) @0x7fff557a8f48\n"
      ]
     },
     "execution_count": 14,
     "metadata": {},
     "output_type": "execute_result"
    }
   ],
   "source": [
    "cv::drawChessboardCorners(pattern, cv::Size(7, 9), cv::Mat(corners), patternFound);"
   ]
  },
  {
   "cell_type": "code",
   "execution_count": 15,
   "metadata": {
    "collapsed": false
   },
   "outputs": [
    {
     "data": {
      "text/plain": [
       "(bool) true\n"
      ]
     },
     "execution_count": 15,
     "metadata": {},
     "output_type": "execute_result"
    }
   ],
   "source": [
    "std::vector<int> compression_params;\n",
    "compression_params.push_back(CV_IMWRITE_PNG_COMPRESSION);\n",
    "compression_params.push_back(9);\n",
    "cv::imwrite(\"images/camera-calibration-checker-board-with-corners_9x7.png\", pattern, compression_params);"
   ]
  },
  {
   "cell_type": "markdown",
   "metadata": {},
   "source": [
    "This is how the patten with identified corners looks:\n",
    "![Calibration checkerboard pattern with corners identified](images/camera-calibration-checker-board-with-corners_9x7.png)"
   ]
  },
  {
   "cell_type": "markdown",
   "metadata": {},
   "source": [
    "Given a photo of the $7 \\times 9$ checkerboard calibration pattern, we need to find all the intrinsic and extrinsic parameters of the camera. Without loss of generality, we can assume that the pattern lies on $Z = 0$ world plane. In that case, Eq. \\ref{eq:full} can be written as:\n",
    "\n",
    "\\begin{equation}\n",
    "\\begin{bmatrix} x \\\\ y \\\\ z \\end{bmatrix} = \n",
    "  \\frac{1}{\\lambda} \\matrix{K_{3\\times3}} \n",
    "  \\begin{bmatrix} \\matrix{r_1} & \\matrix{r_2} & \\matrix{T_{3\\times1}} \\end{bmatrix}\n",
    "  \\begin{bmatrix} X \\\\ Y \\\\ 1 \\end{bmatrix}\n",
    "  \\label{eq:not-full}\n",
    "\\end{equation}\n",
    "\n",
    "where\n",
    "\n",
    "\\begin{equation}\n",
    "\\matrix{K_{3\\times3}} = \\begin{bmatrix} f_x & s & u_0 \\\\ 0 & f_y & v_0 \\\\ 0 & 0 & 1 \\end{bmatrix}\n",
    "\\end{equation}\n",
    "\n",
    "and\n",
    "\n",
    "\\begin{equation}\n",
    "\\matrix{R_{3\\times3}} = \\begin{bmatrix} \\matrix{r_1} & \\matrix{r_2} & \\matrix{r_3} \\end{bmatrix}\n",
    "\\end{equation}\n",
    "\n",
    "Let\n",
    "\n",
    "\\begin{equation}\n",
    "\\matrix{M_{3\\times3}} = \\frac{1}{\\lambda} \\matrix{K_{3\\times3}} \\begin{bmatrix} \\matrix{r_1} & \\matrix{r_2} & \\matrix{T_{3\\times1}} \\end{bmatrix}\n",
    "\\end{equation}\n",
    "\n",
    "Hence we can rewrite Eq. \\ref{eq:not-full} as\n",
    "\n",
    "\\begin{equation}\n",
    "\\begin{bmatrix} x \\\\ y \\\\ z \\end{bmatrix} = \\matrix{M_{3\\times3}} \\begin{bmatrix} X \\\\ Y \\\\ 1 \\end{bmatrix}\n",
    "\\end{equation}\n",
    "\n",
    "This is equation of homography and can be solved using DLT followed by non-linear minimization. OpenCV provides a method `findHomography()` which we we'll use.\n",
    "\n",
    "Load the image of the calibration pattern as taken from the camera."
   ]
  },
  {
   "cell_type": "code",
   "execution_count": 16,
   "metadata": {
    "collapsed": false
   },
   "outputs": [
    {
     "data": {
      "text/plain": [
       "(cv::Mat &) @0x110ccdac8\n"
      ]
     },
     "execution_count": 16,
     "metadata": {},
     "output_type": "execute_result"
    }
   ],
   "source": [
    "cv::Mat srcImage = cv::imread(\"images/Camera/IMG_20161008_161159.jpg\", CV_LOAD_IMAGE_GRAYSCALE);"
   ]
  },
  {
   "cell_type": "markdown",
   "metadata": {},
   "source": [
    "Here's how the image looks like:\n",
    "\n",
    "![Image of calibration pattern as taken from camera](images/Camera/IMG_20161008_161159.jpg)"
   ]
  },
  {
   "cell_type": "markdown",
   "metadata": {},
   "source": [
    "Find the calibration pattern in the image and refine the corners."
   ]
  },
  {
   "cell_type": "code",
   "execution_count": 17,
   "metadata": {
    "collapsed": false
   },
   "outputs": [
    {
     "data": {
      "text/plain": [
       "(void) @0x7fff557a8f48\n"
      ]
     },
     "execution_count": 17,
     "metadata": {},
     "output_type": "execute_result"
    }
   ],
   "source": [
    "patternFound = cv::findChessboardCorners(srcImage, cv::Size(7, 9), corners, cv::CALIB_CB_FAST_CHECK);\n",
    "cv::cornerSubPix(srcImage, corners, cv::Size(11, 11), cv::Size(-1, -1), cv::TermCriteria(CV_TERMCRIT_EPS + CV_TERMCRIT_ITER, 30, 0.1));"
   ]
  },
  {
   "cell_type": "markdown",
   "metadata": {},
   "source": [
    "In the calibration pattern, size of each rectangle is 2.2 cm $\\times$ 2.5 cm. Creating a vector of points to be supplied to OpenCV's `findHomography()` function."
   ]
  },
  {
   "cell_type": "code",
   "execution_count": 18,
   "metadata": {
    "collapsed": false
   },
   "outputs": [
    {
     "data": {
      "text/plain": []
     },
     "execution_count": 18,
     "metadata": {},
     "output_type": "execute_result"
    }
   ],
   "source": [
    "std::vector<cv::Point2f> srcCorners;\n",
    "for (int indy = 0; indy < 9; indy++) {\n",
    "    for (int indx = 0; indx < 7; indx++) {\n",
    "        srcCorners.push_back(cv::Point2f(2.2 * indx, 2.5 * indy));\n",
    "    }\n",
    "}"
   ]
  },
  {
   "cell_type": "markdown",
   "metadata": {},
   "source": [
    "Find the homography matrix $\\matrix{M_{3\\times3}}$."
   ]
  },
  {
   "cell_type": "code",
   "execution_count": 19,
   "metadata": {
    "collapsed": false
   },
   "outputs": [
    {
     "name": "stdout",
     "output_type": "stream",
     "text": [
      "[-3.302428443540017, -40.28342855545862, 1038.212069802877;\n",
      " 23.64052753468904, -2.452553567622044, 1627.009189075312;\n",
      " -0.009535291207674988, -0.00279994519634558, 0.9999999999999999]\n"
     ]
    },
    {
     "data": {
      "text/plain": [
       "(std::__1::basic_ostream &) @0x7fffb1f8d660\n"
      ]
     },
     "execution_count": 19,
     "metadata": {},
     "output_type": "execute_result"
    }
   ],
   "source": [
    "cv::Mat M = cv::findHomography(srcCorners, corners, 0);\n",
    "std::cout << M << std::endl;"
   ]
  },
  {
   "cell_type": "markdown",
   "metadata": {},
   "source": [
    "Add path to the Eigen library."
   ]
  },
  {
   "cell_type": "code",
   "execution_count": 20,
   "metadata": {
    "collapsed": false
   },
   "outputs": [
    {
     "data": {
      "text/plain": []
     },
     "execution_count": 20,
     "metadata": {},
     "output_type": "execute_result"
    }
   ],
   "source": [
    ".I /Users/neeravbm/Documents/libs/Eigen"
   ]
  },
  {
   "cell_type": "markdown",
   "metadata": {},
   "source": [
    "Include Eigen core."
   ]
  },
  {
   "cell_type": "code",
   "execution_count": 21,
   "metadata": {
    "collapsed": false
   },
   "outputs": [
    {
     "data": {
      "text/plain": []
     },
     "execution_count": 21,
     "metadata": {},
     "output_type": "execute_result"
    }
   ],
   "source": [
    "#include <Eigen/Dense>"
   ]
  },
  {
   "cell_type": "markdown",
   "metadata": {},
   "source": [
    "Define the matrix M_eig."
   ]
  },
  {
   "cell_type": "code",
   "execution_count": 22,
   "metadata": {
    "collapsed": false
   },
   "outputs": [
    {
     "data": {
      "text/plain": [
       "(Eigen::Matrix<float, Eigen::Dynamic, Eigen::Dynamic> &) @0x110ccdfc8\n"
      ]
     },
     "execution_count": 22,
     "metadata": {},
     "output_type": "execute_result"
    }
   ],
   "source": [
    "Eigen::Matrix<float, Eigen::Dynamic, Eigen::Dynamic> M_eig;"
   ]
  },
  {
   "cell_type": "markdown",
   "metadata": {},
   "source": [
    "Include OpenCV's `eigen.hpp` file that defines `cv2eigen()` function."
   ]
  },
  {
   "cell_type": "code",
   "execution_count": 23,
   "metadata": {
    "collapsed": false
   },
   "outputs": [
    {
     "data": {
      "text/plain": []
     },
     "execution_count": 23,
     "metadata": {},
     "output_type": "execute_result"
    }
   ],
   "source": [
    "#include <opencv2/core/eigen.hpp>"
   ]
  },
  {
   "cell_type": "markdown",
   "metadata": {},
   "source": [
    "Convert OpenCV's matrix M to Eigen's matrix M_eig."
   ]
  },
  {
   "cell_type": "code",
   "execution_count": 24,
   "metadata": {
    "collapsed": false
   },
   "outputs": [
    {
     "data": {
      "text/plain": [
       "(void) @0x7fff557a8f48\n"
      ]
     },
     "execution_count": 24,
     "metadata": {},
     "output_type": "execute_result"
    }
   ],
   "source": [
    "cv::cv2eigen(M, M_eig);"
   ]
  },
  {
   "cell_type": "markdown",
   "metadata": {},
   "source": [
    "Print M_eig to verify visually that it has the same values as M."
   ]
  },
  {
   "cell_type": "code",
   "execution_count": 25,
   "metadata": {
    "collapsed": false
   },
   "outputs": [
    {
     "name": "stdout",
     "output_type": "stream",
     "text": [
      "   -3.30243    -40.2834     1038.21\n",
      "    23.6405    -2.45255     1627.01\n",
      "-0.00953529 -0.00279995           1\n"
     ]
    },
    {
     "data": {
      "text/plain": [
       "(std::__1::basic_ostream &) @0x7fffb1f8d660\n"
      ]
     },
     "execution_count": 25,
     "metadata": {},
     "output_type": "execute_result"
    }
   ],
   "source": [
    "std::cout << M_eig << std::endl;"
   ]
  },
  {
   "cell_type": "markdown",
   "metadata": {},
   "source": [
    "Calculate the reprojection error."
   ]
  },
  {
   "cell_type": "code",
   "execution_count": 26,
   "metadata": {
    "collapsed": false
   },
   "outputs": [
    {
     "name": "stdout",
     "output_type": "stream",
     "text": [
      "Reprojection errors:    1.0593  0.786775  0.440937  0.505456  0.860621   1.06615   1.15863   1.01626   2.20539\n",
      " 0.487442  0.634659  0.705408   1.56117   1.18963   1.30673   1.22003  0.528976   1.91098\n",
      "  0.65258  0.647583  0.827501   1.13046   1.51149  0.973292  0.843415  0.749674   1.93368\n",
      " 0.913337   0.46048  0.695201   1.35446   1.00633  0.560906  0.835207  0.773224   1.97156\n",
      "  1.58369  0.763808  0.441802   1.47901  0.687813  0.257054  0.722764   0.73687  0.929249\n",
      "  2.44006   1.22931  0.108975  0.109606 0.0604809  0.528536  0.359532  0.897172    1.0159\n",
      "  1.65519  0.625405  0.225226  0.299532      1.31  0.763762   1.07219     1.062   1.31862\n",
      "Average reprojection error: 0.13433\n"
     ]
    },
    {
     "data": {
      "text/plain": [
       "(std::__1::basic_ostream &) @0x7fffb1f8d660\n"
      ]
     },
     "execution_count": 26,
     "metadata": {},
     "output_type": "execute_result"
    }
   ],
   "source": [
    "Eigen::MatrixXf errors(7, 9);\n",
    "for (int indy = 0; indy < 9; indy++) {\n",
    "    for (int indx = 0; indx < 7; indx++) {\n",
    "        Eigen::Vector3f input;\n",
    "        input << srcCorners[7 * indy + indx].x, srcCorners[7 * indy + indx].y, 1;\n",
    "        Eigen::Vector3f output = M_eig * input;\n",
    "        output(0) = output(0) / output(2);\n",
    "        output(1) = output(1) / output(2);\n",
    "        float err_x = corners[7 * indy + indx].x - output(0);\n",
    "        float err_y = corners[7 * indy + indx].y - output(1);\n",
    "        errors(indx, indy) = std::sqrt(std::pow(err_x, 2) + std::pow(err_y, 2));\n",
    "    }\n",
    "}\n",
    "\n",
    "std::cout << \"Reprojection errors: \" << errors << std::endl;\n",
    "std::cout << \"Average reprojection error: \" << errors.norm() / (7*9) << std::endl;"
   ]
  },
  {
   "cell_type": "markdown",
   "metadata": {
    "collapsed": true
   },
   "source": [
    "Even after obtaining the complete $\\matrix{M_{3\\times3}}$, we can't get $\\matrix{K_{3\\times3}}$ and $\\begin{bmatrix} \\matrix{r_1} & \\matrix{r_2} & \\matrix{T_{3\\times1}} \\end{bmatrix}$ using RQ decomposition because RQ decomposition provides a unique upper-triangular matrix and an orthogonal matrix. In our case, $\\begin{bmatrix} \\matrix{r_1} & \\matrix{r_2} & \\matrix{T_{3\\times1}} \\end{bmatrix}$ is not necessarily orthogonal, hence multiple such decompositions can exist. We need more constraints to calibrate the camera.\n",
    "\n",
    "Based on the structure of $\\matrix{K_{3\\times3}}$, we know that it's non-singular and hence, invertible.\n",
    "\n",
    "$$\n",
    "\\begin{align}\n",
    "\\therefore \\begin{bmatrix} \\matrix{r_1} & \\matrix{r_2} & \\matrix{T_{3\\times1}} \\end{bmatrix} & = \n",
    "\\lambda \\matrix{K_{3\\times3}}^{-1} \\matrix{M_{3\\times3}}\\\\\n",
    "& = \\lambda \\matrix{K_{3\\times3}}^{-1} \\begin{bmatrix} \\matrix{m_1} & \\matrix{m_2} & \\matrix{m_3} \\end{bmatrix}\n",
    "\\end{align}\n",
    "$$\n",
    "\n",
    "where $\\matrix{m_1}$, $\\matrix{m_2}$ and $\\matrix{m_3}$ are the column vectors of $\\matrix{M_{3\\times3}}$.\n",
    "\n",
    "In other words,\n",
    "\n",
    "$$\n",
    "\\begin{align}\n",
    "\\matrix{r_1} & = \\lambda \\matrix{K_{3\\times3}}^{-1} \\matrix{m_1},\\\\\n",
    "\\matrix{r_2} & = \\lambda \\matrix{K_{3\\times3}}^{-1} \\matrix{m_2}, \\text{and}\\\\\n",
    "\\matrix{T_{3\\times1}} & = \\lambda \\matrix{K_{3\\times3}}^{-1} \\matrix{m_3},\n",
    "\\end{align}\n",
    "$$\n",
    "\n",
    "We know that $\\matrix{R_{3\\times3}}$ is a rotation matrix and hence $\\matrix{r_1}$ and $\\matrix{r_2}$ are orthonormal.\n",
    "\n",
    "$$\n",
    "\\begin{align}\n",
    "\\therefore 0 & = \\matrix{r_1}^T \\matrix{r_2}\\\\\n",
    "& = \\lambda^2 \\matrix{m_1}^T \\matrix{K_{3\\times3}}^{-T} \\matrix{K_{3\\times3}}^{-1} \\matrix{m_2}\\\\\n",
    "& = \\matrix{m_1}^T \\matrix{K_{3\\times3}}^{-T} \\matrix{K_{3\\times3}}^{-1} \\matrix{m_2}\n",
    "\\label{eq:r_ortho}\n",
    "\\end{align}\n",
    "$$\n",
    "\n",
    "and\n",
    "\n",
    "$$\n",
    "\\begin{align}\n",
    "1 & = \\matrix{r_1}^T \\matrix{r_1} & = \\matrix{r_2}^T \\matrix{r_2}\\\\\n",
    "& = \\lambda^2 \\matrix{m_1}^T \\matrix{K_{3\\times3}}^{-T} \\matrix{K_{3\\times3}}^{-1} \\matrix{m_1} & = \\lambda^2 \\matrix{m_2}^T \\matrix{K_{3\\times3}}^{-T} \\matrix{K_{3\\times3}}^{-1} \\matrix{m_2}\\\\\n",
    "\\end{align}\n",
    "$$\n",
    "\n",
    "\\begin{equation}\n",
    "\\therefore \\matrix{m_1}^T \\matrix{K_{3\\times3}}^{-T} \\matrix{K_{3\\times3}}^{-1} \\matrix{m_1} = \\matrix{m_2}^T \\matrix{K_{3\\times3}}^{-T} \\matrix{K_{3\\times3}}^{-1} \\matrix{m_2}\n",
    "\\label{eq:r_norm}\n",
    "\\end{equation}\n",
    "\n",
    "Let \n",
    "\n",
    "\\begin{equation}\n",
    "\\matrix{B_{3\\times3}} = \\matrix{K_{3\\times3}}^{-T} \\matrix{K_{3\\times3}}^{-1}\n",
    "\\label{eq:B_def}\n",
    "\\end{equation}\n",
    "\n",
    "$\\matrix{B_{3\\times3}}$ is a symmetric matrix. Simplifying \\ref{eq:r_ortho} and \\ref{eq:r_norm}, we get\n",
    "\n",
    "\\begin{equation}\n",
    "\\matrix{m_1}^T \\matrix{B_{3\\times3}} \\matrix{m_2} = 0, \\text{and}\\\\\n",
    "\\matrix{m_1}^T \\matrix{B_{3\\times3}} \\matrix{m_1} = \\matrix{m_2}^T \\matrix{B_{3\\times3}} \\matrix{m_2}\n",
    "\\label{eq:bm_matrix}\n",
    "\\end{equation}\n",
    "\n",
    "Let\n",
    "\n",
    "\\begin{equation}\n",
    "\\matrix{B_{3\\times3}} = \\begin{bmatrix} b_1 & b_2 & b_3 \\\\ b_2 & b_4 & b_5 \\\\ b_3 & b_5 & b_6 \\end{bmatrix}\n",
    "\\label{eq:b_form}\n",
    "\\end{equation}\n",
    "\n",
    "Simplifying \\ref{eq:bm_matrix} and \\ref{eq:b_form}, we get\n",
    "\n",
    "\\begin{equation}\n",
    "\\label{eq:b_vec_eq}\n",
    "\\begin{bmatrix} m_{11} m_{12} & m_{11} m_{22} + m_{21} m_{12} & m_{11} m_{32} + m_{31} m_{12} & m_{21} m_{22} & m_{21} m_{32} + m_{31} m_{22} & m_{31} m_{32} \\\\\n",
    "m_{11}^2 - m_{12}^2 & 2 \\times (m_{11} m_{21} - m_{12} m_{22}) & 2 \\times (m_{11} m_{31} - m_{12} m_{32}) & m_{21}^2 - m_{22}^2 & 2 \\times (m_{21} m_{31} - m_{22} m_{32}) & m_{31}^2 - m_{32}^2\n",
    "\\end{bmatrix} \\begin{bmatrix} b_1 \\\\ b_2 \\\\ b_3 \\\\ b_4 \\\\ b_5 \\\\ b_6 \\end{bmatrix} = 0\n",
    "\\end{equation}"
   ]
  },
  {
   "cell_type": "markdown",
   "metadata": {},
   "source": [
    "Each image provides 2 such equations. There are 6 variables and hence we need at least 3 images of the calibration pattern from different angles to determine $\\matrix{B_{3\\times3}}$. If we have more than 3 images, which is highly recommended, then the solution will be the right vector corresponding to the smallest singular value. Make sure that all the input images are of the same orientation, i.e. all are portrait or all are landscape. If input images have mixed orientations, then the result will be incorrect.\n",
    "\n",
    "Let's loop through all the images of the calibration pattern stored in the directory `images/Camera`.\n",
    "\n",
    "Include `dirent.h` for directory related operations."
   ]
  },
  {
   "cell_type": "code",
   "execution_count": 27,
   "metadata": {
    "collapsed": false
   },
   "outputs": [
    {
     "data": {
      "text/plain": []
     },
     "execution_count": 27,
     "metadata": {},
     "output_type": "execute_result"
    }
   ],
   "source": [
    "#include <dirent.h>"
   ]
  },
  {
   "cell_type": "code",
   "execution_count": 28,
   "metadata": {
    "collapsed": false
   },
   "outputs": [
    {
     "data": {
      "text/plain": []
     },
     "execution_count": 28,
     "metadata": {},
     "output_type": "execute_result"
    }
   ],
   "source": [
    "std::string dirName = \"images/Camera/\";\n",
    "DIR *dir = opendir(dirName.c_str());\n",
    "if (dir == NULL) {\n",
    "    std::cerr << \"Could not open the directory \" << dirName << std::endl;\n",
    "    return -1;\n",
    "}"
   ]
  },
  {
   "cell_type": "markdown",
   "metadata": {},
   "source": [
    "`M_vec` is a vector to store homography parameters for every calibration image."
   ]
  },
  {
   "cell_type": "code",
   "execution_count": 29,
   "metadata": {
    "collapsed": false
   },
   "outputs": [
    {
     "data": {
      "text/plain": [
       "(std::vector<Eigen::Matrix<float, Eigen::Dynamic, Eigen::Dynamic> > &) {  }\n"
      ]
     },
     "execution_count": 29,
     "metadata": {},
     "output_type": "execute_result"
    }
   ],
   "source": [
    "std::vector<Eigen::Matrix<float, Eigen::Dynamic, Eigen::Dynamic>> M_vec;"
   ]
  },
  {
   "cell_type": "markdown",
   "metadata": {},
   "source": [
    "Next step is to loop over all the calibration images, find homography between the calibration image and the camera image plane and store the homography matrices in `M_vec`."
   ]
  },
  {
   "cell_type": "code",
   "execution_count": 30,
   "metadata": {
    "collapsed": false
   },
   "outputs": [
    {
     "name": "stderr",
     "output_type": "stream",
     "text": [
      "Using raw input\n"
     ]
    },
    {
     "data": {
      "text/plain": []
     },
     "execution_count": 30,
     "metadata": {},
     "output_type": "execute_result"
    }
   ],
   "source": [
    ".rawInput"
   ]
  },
  {
   "cell_type": "code",
   "execution_count": 31,
   "metadata": {
    "collapsed": false
   },
   "outputs": [
    {
     "data": {
      "text/plain": []
     },
     "execution_count": 31,
     "metadata": {},
     "output_type": "execute_result"
    }
   ],
   "source": [
    "double computeReprojectionError(std::vector<cv::Point2f> &srcCorners, std::vector<cv::Point2f> &corners, int W, int H,\n",
    "                                Eigen::Matrix<float, Eigen::Dynamic, Eigen::Dynamic> &M) {\n",
    "    Eigen::MatrixXf errors(W, H);\n",
    "    for (int indy = 0; indy < H; indy++) {\n",
    "        for (int indx = 0; indx < W; indx++) {\n",
    "            Eigen::Vector3f input;\n",
    "            input << srcCorners[7 * indy + indx].x, srcCorners[7 * indy + indx].y, 1;\n",
    "            Eigen::Vector3f output = M * input;\n",
    "            output(0) = output(0) / output(2);\n",
    "            output(1) = output(1) / output(2);\n",
    "            float err_x = corners[7 * indy + indx].x - output(0);\n",
    "            float err_y = corners[7 * indy + indx].y - output(1);\n",
    "            errors(indx, indy) = (float) std::sqrt(std::pow(err_x, 2) + std::pow(err_y, 2));\n",
    "        }\n",
    "    }\n",
    "\n",
    "    return errors.norm() / ((float) (W * H));\n",
    "}"
   ]
  },
  {
   "cell_type": "code",
   "execution_count": 32,
   "metadata": {
    "collapsed": false
   },
   "outputs": [
    {
     "name": "stderr",
     "output_type": "stream",
     "text": [
      "Not using raw input\n"
     ]
    },
    {
     "data": {
      "text/plain": []
     },
     "execution_count": 32,
     "metadata": {},
     "output_type": "execute_result"
    }
   ],
   "source": [
    ".rawInput"
   ]
  },
  {
   "cell_type": "code",
   "execution_count": 33,
   "metadata": {
    "collapsed": false
   },
   "outputs": [
    {
     "name": "stderr",
     "output_type": "stream",
     "text": [
      "Could not open the image .\n",
      "Could not open the image ..\n",
      "Could not open the image .DS_Store\n"
     ]
    },
    {
     "name": "stdout",
     "output_type": "stream",
     "text": [
      "0.319968\n",
      "0.0953494\n",
      "0.0822325\n"
     ]
    },
    {
     "name": "stderr",
     "output_type": "stream",
     "text": [
      "Could not find the calibration pattern in IMG_20161008_161119.jpg\n",
      "Could not find the calibration pattern in IMG_20161008_161128.jpg\n",
      "Could not find the calibration pattern in IMG_20161008_161141.jpg\n",
      "Could not find the calibration pattern in IMG_20161008_161147.jpg\n"
     ]
    },
    {
     "name": "stdout",
     "output_type": "stream",
     "text": [
      "0.13433\n",
      "0.187557\n",
      "0.224699\n",
      "0.211579\n",
      "0.146532\n",
      "0.137154\n",
      "0.387863\n"
     ]
    },
    {
     "data": {
      "text/plain": []
     },
     "execution_count": 33,
     "metadata": {},
     "output_type": "execute_result"
    }
   ],
   "source": [
    "std::string imgName;\n",
    "struct dirent *ent;\n",
    "while ((ent = readdir(dir)) != NULL) {\n",
    "    imgName = ent->d_name;\n",
    "    std::string imgPath(dirName + imgName);\n",
    "    cv::Mat pattern = cv::imread(imgPath, CV_LOAD_IMAGE_GRAYSCALE);\n",
    "\n",
    "    if (!pattern.data) {\n",
    "        std::cerr << \"Could not open the image \" << imgName << std::endl;\n",
    "        continue;\n",
    "    }\n",
    "\n",
    "    std::vector<cv::Point2f> corners;\n",
    "    bool patternFound = cv::findChessboardCorners(pattern, cv::Size(7, 9), corners, cv::CALIB_CB_FAST_CHECK);\n",
    "    if (!patternFound) {\n",
    "        std::cerr << \"Could not find the calibration pattern in \" << imgName << std::endl;\n",
    "        continue;\n",
    "    }\n",
    "\n",
    "    cv::cornerSubPix(pattern, corners, cv::Size(11, 11), cv::Size(-1, -1), \n",
    "                     cv::TermCriteria(CV_TERMCRIT_EPS + CV_TERMCRIT_ITER, 30, 0.1));\n",
    "\n",
    "    // Third argument determines whether to use all the points or only a few selected by RANSAC. Since we are using\n",
    "    // calibration pattern and we want to use all the detected points, we will instruct findHomography() function to\n",
    "    // use all the points.\n",
    "    cv::Mat M_cv = cv::findHomography(srcCorners, corners, 0);\n",
    "\n",
    "    Eigen::Matrix<float, Eigen::Dynamic, Eigen::Dynamic> M;\n",
    "    cv::cv2eigen(M_cv, M);\n",
    "    M_vec.push_back(M);\n",
    "\n",
    "    // Find reprojection error in each of the calibration patterns. This piece of code is just for sanity testing and\n",
    "    // is not needed in production deployment.\n",
    "    double error = computeReprojectionError(srcCorners, corners, 7, 9, M);\n",
    "    std::cout << error << std::endl;\n",
    "}"
   ]
  },
  {
   "cell_type": "markdown",
   "metadata": {},
   "source": [
    "Make sure that at least 3 calibration patterns were recognized since we need 3 to compute the elements of matrix $\\matrix{B_{3\\times3}}$ based on Eq. \\ref{eq:b_vec_eq}."
   ]
  },
  {
   "cell_type": "code",
   "execution_count": 34,
   "metadata": {
    "collapsed": false
   },
   "outputs": [
    {
     "data": {
      "text/plain": []
     },
     "execution_count": 34,
     "metadata": {},
     "output_type": "execute_result"
    }
   ],
   "source": [
    "if (M_vec.size() < 3) {\n",
    "    std::cerr << \"Could not find 3 valid images of the calibration pattern.\" << std::endl;\n",
    "    return -1;\n",
    "}"
   ]
  },
  {
   "cell_type": "markdown",
   "metadata": {},
   "source": [
    "From $M\\_vec$, construct matrix $\\matrix{A1}$, which is the left-most matrix in Eq. \\ref{eq:b_vec_eq}."
   ]
  },
  {
   "cell_type": "code",
   "execution_count": 35,
   "metadata": {
    "collapsed": false
   },
   "outputs": [
    {
     "name": "stdout",
     "output_type": "stream",
     "text": [
      "     179.409      5353.53     0.324085      -88.289     -0.16694 -9.93491e-06\n",
      "     5094.37     -544.959     -0.33077     -5623.74    -0.686969 -1.66475e-05\n",
      "     170.676      1139.97     0.110303     -368.347    -0.491283 -6.34992e-05\n",
      "     678.174      -1010.4    -0.609861     -1910.69    -0.411081  5.52436e-05\n",
      "     172.263      1376.65     0.183433     -156.193     -0.29089 -4.13309e-05\n",
      "     985.657     -700.994     -0.46122     -1907.31    -0.551744 -9.07607e-06\n",
      "     133.033     -944.222     0.393361     -57.9797   -0.0428064  2.66983e-05\n",
      "    -1611.85     -353.737    -0.162604       552.86    -0.464573  8.30821e-05\n",
      "    -184.702     -1546.84     0.337227     -28.0078     -0.14936  3.59262e-05\n",
      "    -2188.09      178.776    -0.504568       1080.4    -0.506615  3.50158e-05\n",
      "     327.411      5811.57     0.788212      1605.89      2.03092  0.000219599\n",
      "     5216.43      2225.51      3.28249     -5834.07    -0.546183  0.000452417\n",
      "     303.217      5568.51     0.711409      1517.93      1.84832  0.000189184\n",
      "     5076.33      2166.99      3.04189     -5514.46    -0.469895  0.000401199\n",
      "     110.987      4136.71     0.227878      1447.64      1.41698  6.30079e-05\n",
      "     4095.21      2673.84      2.68887     -3585.24     0.571043  0.000435521\n",
      "     88.5005     -3720.99     0.337495     -2063.45     -1.12795  0.000105578\n",
      "     -3836.8     -4376.69     -2.62565      2550.93     -2.04811 -0.000429261\n",
      "     230.683      6646.23     0.251577       248.14       0.2569  9.07118e-06\n",
      "     6854.51      66.8157     0.496075     -6410.72    -0.450865  9.63118e-07\n"
     ]
    },
    {
     "data": {
      "text/plain": [
       "(std::__1::basic_ostream &) @0x7fffb1f8d660\n"
      ]
     },
     "execution_count": 35,
     "metadata": {},
     "output_type": "execute_result"
    }
   ],
   "source": [
    "Eigen::MatrixXd A1(2 * M_vec.size(), 6);\n",
    "for (int i = 0; i < M_vec.size(); i++) {\n",
    "    Eigen::Matrix<float, Eigen::Dynamic, Eigen::Dynamic> M = M_vec[i];\n",
    "    A1.row(2 * i) << M(0, 0) * M(0, 1), M(0, 0) * M(1, 1) + M(1, 0) * M(0, 1), M(0, 0) * M(2, 1) + \n",
    "                        M(2, 0) * M(0, 1), M(1, 0) * M(1, 1), M(1, 0) * M(2, 1) + M(2, 0) * M(1, 1), M(2, 0) * M(2, 1);\n",
    "    A1.row(2 * i + 1) << std::pow(M(0, 0), 2) - std::pow(M(0, 1), 2), 2 * (M(0, 0) * M(1, 0) - M(0, 1) * M(1, 1)),\n",
    "                        2 * (M(0, 0) * M(2, 0) - M(0, 1) * M(2, 1)), std::pow(M(1, 0), 2) - std::pow(M(1, 1), 2), \n",
    "                        2 * (M(1, 0) * M(2, 0) - M(1, 1) * M(2, 1)), std::pow(M(2, 0), 2) - std::pow(M(2, 1), 2);\n",
    "}\n",
    "std::cout << A1 << std::endl;"
   ]
  },
  {
   "cell_type": "markdown",
   "metadata": {},
   "source": [
    "Least squares solution to Eq. \\ref{eq:b_vec_eq} is obtained as the right-singular vector corresponding to the smallest singular value of $\\matrix{A1}$."
   ]
  },
  {
   "cell_type": "code",
   "execution_count": 36,
   "metadata": {
    "collapsed": false
   },
   "outputs": [
    {
     "name": "stdout",
     "output_type": "stream",
     "text": [
      "   -0.682989    -0.102302     0.723229 -0.000291981 -0.000650912   1.3473e-07\n",
      "   -0.311632     0.936318    -0.161849 -0.000174726 -9.32618e-06 -3.97209e-09\n",
      " -0.00024735  9.44261e-05 -1.94134e-05     0.976623    -0.214959 -0.000114664\n",
      "    0.660615     0.335922     0.671374 -1.65937e-05 -0.000748622  1.44994e-07\n",
      "-6.23655e-06  0.000219039  0.000990845     0.214958     0.976623 -0.000167103\n",
      "-3.44082e-08  1.62251e-08 -3.20814e-08  0.000147904  0.000138548            1\n"
     ]
    },
    {
     "data": {
      "text/plain": [
       "(std::__1::basic_ostream &) @0x7fffb1f8d660\n"
      ]
     },
     "execution_count": 36,
     "metadata": {},
     "output_type": "execute_result"
    }
   ],
   "source": [
    "Eigen::JacobiSVD<Eigen::MatrixXd> svd(A1, Eigen::ComputeThinU | Eigen::ComputeThinV);\n",
    "Eigen::MatrixXd V = svd.matrixV();\n",
    "std::cout << V << std::endl;"
   ]
  },
  {
   "cell_type": "markdown",
   "metadata": {},
   "source": [
    "According to [Zhang](http://research.microsoft.com/en-us/um/people/zhang/calib/), once elements of matrix $\\matrix{B_{3\\times3}}$ are determined, elements of intrinsic parameters of the camera (matrix $\\matrix{K_{3\\times3}}$) can be calculated using the following formulae:\n",
    "\n",
    "$$\n",
    "\\begin{align}\n",
    "v_0 & = \\frac{b_2 b_3 - b_1 b_5}{b_1 b_4 - b_2^2}\\\\\n",
    "\\lambda_c & = b_6 - \\frac{b_3^2 + v_0 ( b_2 b_3 - b_1 b_5)}{b_1}\\\\\n",
    "f_x & = \\sqrt{\\frac{\\lambda_c}{b_1}}\\\\\n",
    "f_y & = \\sqrt{\\frac{\\lambda_c b_1}{b_1 b_4 - b_2^2}}\\\\\n",
    "s & = -\\frac{b_2 f_x^2 f_y}{\\lambda_c}\\\\\n",
    "u_0 & = \\frac{s v_0}{f_x} - \\frac{b_3 f_x^2}{\\lambda_c} \n",
    "\\end{align}\n",
    "$$\n",
    "\n",
    "Here's the derivation. Let\n",
    "\n",
    "\\begin{equation}\n",
    "\\matrix{K_{3\\times3}} = \\frac{1}{\\sqrt{\\lambda_c}} \\begin{bmatrix} f_x & s & u_0 \\\\ 0 & f_y & v_0 \\\\ 0 & 0 & 1 \\end{bmatrix}\n",
    "\\end{equation}\n",
    "\n",
    "where $\\frac{1}{\\sqrt{\\lambda_c}}$ is the normalizing constant. We need to find $\\matrix{B_{3\\times3}}$ in terms of the elements of $\\matrix{K_{3\\times3}}$. Let's first find $\\matrix{K_{3\\times3}}^{-1}$. We have\n",
    "\n",
    "$$\n",
    "\\begin{align}\n",
    "\\matrix{K_{3\\times3}} \\matrix{K_{3\\times3}}^{-1} & = & \\matrix{I_{3\\times3}} \\\\\n",
    "\\therefore \\frac{1}{\\sqrt{\\lambda_c}} \\begin{bmatrix} f_x & s & u_0 \\\\ 0 & f_y & v_0 \\\\ 0 & 0 & 1 \\end{bmatrix} \\matrix{K_{3\\times3}}^{-1} & = & \\begin{bmatrix} 1 & 0 & 0 \\\\ 0 & 1 & 0 \\\\ 0 & 0 & 1 \\end{bmatrix} \\\\\n",
    "\\therefore \\begin{bmatrix} f_x & s & u_0 \\\\ 0 & f_y & v_0 \\\\ 0 & 0 & 1 \\end{bmatrix} \\matrix{K_{3\\times3}}^{-1} & = & \\sqrt{\\lambda_c} \\begin{bmatrix} 1 & 0 & 0 \\\\ 0 & 1 & 0 \\\\ 0 & 0 & 1 \\end{bmatrix} \\\\\n",
    "\\therefore \\begin{bmatrix} 1 & \\frac{s}{f_x} & \\frac{u_0}{f_x} \\\\ 0 & 1 & \\frac{v_0}{f_y} \\\\ 0 & 0 & 1 \\end{bmatrix} \\matrix{K_{3\\times3}}^{-1} & = & \\sqrt{\\lambda_c} \\begin{bmatrix} \\frac{1}{f_x} & 0 & 0 \\\\ 0 & \\frac{1}{f_y} & 0 \\\\ 0 & 0 & 1 \\end{bmatrix} \\\\\n",
    "\\therefore \\begin{bmatrix} 1 & 0 & \\frac{u_0}{f_x} - \\frac{s v_0}{f_x f_y} \\\\ 0 & 1 & \\frac{v_0}{f_y} \\\\ 0 & 0 & 1 \\end{bmatrix} \\matrix{K_{3\\times3}}^{-1} & = & \\sqrt{\\lambda_c} \\begin{bmatrix} \\frac{1}{f_x} & -\\frac{s}{f_x f_y} & 0 \\\\ 0 & \\frac{1}{f_y} & 0 \\\\ 0 & 0 & 1 \\end{bmatrix} \\\\\n",
    "\\therefore \\begin{bmatrix} 1 & 0 & 0 \\\\ 0 & 1 & 0 \\\\ 0 & 0 & 1 \\end{bmatrix} \\matrix{K_{3\\times3}}^{-1} & = & \\sqrt{\\lambda_c} \\begin{bmatrix} \\frac{1}{f_x} & -\\frac{s}{f_x f_y} & \\frac{s v_0}{f_x f_y} - \\frac{u_0}{f_x} \\\\ 0 & \\frac{1}{f_y} & -\\frac{v_0}{f_y} \\\\ 0 & 0 & 1 \\end{bmatrix} \\\\\n",
    "\\therefore \\matrix{K_{3\\times3}}^{-1} & = & \\sqrt{\\lambda_c} \\begin{bmatrix} \\frac{1}{f_x} & -\\frac{s}{f_x f_y} & \\frac{s v_0}{f_x f_y} - \\frac{u_0}{f_x} \\\\ 0 & \\frac{1}{f_y} & -\\frac{v_0}{f_y} \\\\ 0 & 0 & 1 \\end{bmatrix} \\\\\n",
    "\\label{eq:K_inverse}\n",
    "\\therefore \\matrix{K_{3\\times3}}^{-1} & = & \\frac{\\sqrt{\\lambda_c}}{f_x f_y} \\begin{bmatrix} f_x & -s & s v_0 - u_0 f_y \\\\ 0 & f_x & -v_0 f_x \\\\ 0 & 0 & f_x f_y \\end{bmatrix} \\\\\n",
    "\\label{eq:K_inverse_transpose}\n",
    "\\therefore \\matrix{K_{3\\times3}}^{-1} & = & \\frac{\\sqrt{\\lambda_c}}{f_x f_y} \\begin{bmatrix} f_x & 0 & 0 \\\\ -s & f_x & 0 \\\\ s v_0 - u_0 f_y & -v_0 f_x & f_x f_y \\end{bmatrix} \\\\\n",
    "\\end{align}\n",
    "$$\n",
    "\n",
    "From Eqs. \\ref{eq:B_def}, \\ref{eq:b_form}, \\ref{eq:K_inverse} and \\ref{eq:K_inverse_transpose}, we get\n",
    "\n",
    "$$\n",
    "\\begin{align}\n",
    "\\begin{bmatrix} b_1 & b_2 & b_3 \\\\ b_2 & b_4 & b_5 \\\\ b_3 & b_5 & b_6 \\end{bmatrix} & = & \\frac{\\lambda_c}{f_x^2 f_y^2} \\begin{bmatrix} f_x & 0 & 0 \\\\ -s & f_x & 0 \\\\ s v_0 - u_0 f_y & -v_0 f_x & f_x f_y \\end{bmatrix} \\begin{bmatrix} f_x & -s & s v_0 - u_0 f_y \\\\ 0 & f_x & -v_0 f_x \\\\ 0 & 0 & f_x f_y \\end{bmatrix} \\\\\n",
    "\\label{eq:B_def_full}\n",
    "& = & \\frac{\\lambda_c}{f_x^2 f_y^2} \\begin{bmatrix} f_y^2 & -s f_y & f_y (s v_0 - u_0 f_y) \\\\ -s f_y & s^2 + f_x^2 & -s^2 v_0 + s u_0 f_y - v_0 f_x^2 \\\\ f_y (s v_0 - u_0 f_y) & -s^2 v_0 + s u_0 f_y - v_0 f_x^2 & (s v_0 - u_0 f_y)^2 + v_0^2 f_x^2 + f_x^2 f_y^2 \\end{bmatrix}\n",
    "\\end{align}\n",
    "$$\n",
    "\n",
    "\\begin{equation}\n",
    "\\therefore b_1 = \\frac{\\lambda_c}{f_x^2}\n",
    "\\label{eq:b1_def}\n",
    "\\end{equation}\n",
    "\n",
    "$$\n",
    "\\begin{align}\n",
    "\\therefore b_2 & = & - \\frac{\\lambda_c s}{f_x^2 f_y} \\\\\n",
    "& = & -\\frac{s b_1}{f_y} & (\\text{Using Eq. \\ref{eq:b1_def}})\n",
    "\\label{eq:b2_def}\n",
    "\\end{align}\n",
    "$$\n",
    "\n",
    "$$\n",
    "\\begin{align}\n",
    "\\therefore b_3 & = & \\lambda_c \\frac{s v_0 - u_0 f_y}{f_x^2 f_y} \\\\\n",
    "\\label{eq:b3_def_frac}\n",
    "& = & b_1 \\frac{s v_0 - u_0 f_y}{f_y} & (\\text{Using Eq. \\ref{eq:b1_def}}) \\\\\n",
    "\\label{eq:b3_def}\n",
    "& = & -b_2 v_0 - b_1 u_0 & (\\text{Using Eq. \\ref{eq:b2_def}})\n",
    "\\end{align}\n",
    "$$\n",
    "\n",
    "$$\n",
    "\\begin{align}\n",
    "\\therefore b_4 & = & \\lambda_c \\frac{s^2 + f_x^2}{f_x^2 f_y^2} \\\\\n",
    "\\label{eq:b4_def}\n",
    "& = & b_1 \\frac{s^2 + f_x^2}{f_y^2} & (\\text{Using Eq. \\ref{eq:b1_def}}) \\\\\n",
    "& = & \\frac{b_2^2}{b_1} + b_1 \\frac{f_x^2}{f_y^2} & (\\text{Using Eq. \\ref{eq:b2_def}})\n",
    "\\end{align}\n",
    "$$\n",
    "\n",
    "\\begin{equation}\n",
    "\\therefore \\frac{f_x^2}{f_y^2} = \\frac{b_4}{b_1} - \\frac{b_2^2}{b_1^2}\n",
    "\\label{eq:f_x_over_f_y_def}\n",
    "\\end{equation}\n",
    "\n",
    "$$\n",
    "\\begin{align}\n",
    "\\therefore b_5 & = & \\lambda_c \\frac{-s^2 v_0 + s u_0 f_y - v_0 f_x^2}{f_x^2 f_y^2} \\\\\n",
    "& = & b_1 \\frac{-s^2 v_0 + s u_0 f_y - v_0 f_x^2}{f_y^2} & (\\text{Using Eq. \\ref{eq:b1_def}}) \\\\\n",
    "& = & b_1 \\bigg(\\frac{s u_0}{f_y} - v_0 \\frac{s^2 + f_x^2}{f_y^2}\\bigg) \\\\\n",
    "& = & b_1 \\bigg(\\frac{s u_0}{f_y} - v_0 \\frac{b_4}{b_1}\\bigg) & (\\text{Using Eq. \\ref{eq:b4_def}})\\\\\n",
    "\\label{eq:b5_def}\n",
    "& = & -b_2 u_0 - b_4 v_0 & (\\text{Using Eq. \\ref{eq:b2_def}})\n",
    "\\end{align}\n",
    "$$\n",
    "\n",
    "From Eqs. \\ref{eq:b3_def} and \\ref{eq:b5_def}, we get the following two linear equations in $u_0$ and $v_0$.\n",
    "\n",
    "$$\n",
    "\\begin{align}\n",
    "\\label{eq:b3_lin_def}\n",
    "b_1 u_0 + b_2 v_0 & = & -b_3 \\\\\n",
    "\\label{eq:b5_lin_def}\n",
    "b_2 u_0 + b_4 v_0 & = & -b_5 \\\\\n",
    "\\end{align}\n",
    "$$\n",
    "\n",
    "Multiplying Eq. \\ref{eq:b3_lin_def} by $\\frac{b_2}{b_1}$, we get\n",
    "\n",
    "\\begin{equation}\n",
    "\\label{eq:b5_lin_def_mult}\n",
    "\\therefore b_1 u_0 + \\frac{b_1}{b_2} b_4 v_0 = -\\frac{b_1}{b_2} b_5\n",
    "\\end{equation}\n",
    "\n",
    "Subtracting Eq. \\ref{eq:b5_lin_def_mult} from Eq. \\ref{eq:b3_lin_def}\n",
    "\n",
    "$$\n",
    "\\begin{align}\n",
    "\\bigg( b_2 - \\frac{b_1 b_4}{b_2} \\bigg) v_0 & = & \\frac{b_1 b_5}{b_2} - b_3 \\\\\n",
    "\\label{eq:v0_def}\n",
    "\\therefore v_0 & = & \\frac{b_1 b_5 - b_2 b_3}{b_2^2 - b_1 b_4}\n",
    "\\end{align}\n",
    "$$\n",
    "\n",
    "From Eqs. \\ref{eq:b3_lin_def} and \\ref{eq:v0_def}, we get\n",
    "\n",
    "$$\n",
    "\\begin{align}\n",
    "b_1 u_0 & = & -b_3 - b_2 v_0 \\\\\n",
    "\\label{eq:u0_def}\n",
    "\\therefore u_0 & = & -\\frac{b_3}{b_1} - \\frac{b_2}{b_1} v_0\n",
    "\\end{align}\n",
    "$$\n",
    "\n",
    "From Eq. \\ref{eq:B_def_full}, we have\n",
    "\n",
    "$$\n",
    "\\begin{align}\n",
    "b_6 & = & \\lambda_c \\frac{(s v_0 - u_0 f_y)^2 + v_0^2 f_x^2 + f_x^2 f_y^2}{f_x^2 f_y^2} \\\\\n",
    "& = & b_1 \\bigg( \\frac{b_3^2}{b_1^2} + \\frac{f_x^2}{f_y^2} v_0^2 + f_x^2 \\bigg) & (\\text{Using Eq. \\ref{eq:b3_def_frac}}) \\\\\n",
    "& = & \\frac{b_3^2}{b_1} + b_1 \\bigg(\\frac{b_4}{b_1} - \\frac{b_2^2}{b_1^2} \\bigg) v_0^2 + b_1 f_x^2\n",
    "\\end{align}\n",
    "$$\n",
    "\n",
    "$$\n",
    "\\begin{align}\n",
    "\\therefore b_1 f_x^2 & = & b_6 - \\frac{b_3^2}{b_1} - b_4 v_0^2 + \\frac{b_2^2}{b_1} v_0^2 \\\\\n",
    "\\therefore f_x^2 & = & \\frac{b_6}{b_1} - \\frac{b_3^2}{b_1^2} - \\frac{b_4}{b_1} v_0^2 + \\frac{b_2^2}{b_1^2} v_0^2 \\\\\n",
    "\\label{eq:fx_def}\n",
    "\\therefore f_x & = & \\sqrt{\\frac{b_6}{b_1} - \\frac{b_3^2}{b_1^2} - \\frac{b_4}{b_1} v_0^2 + \\frac{b_2^2}{b_1^2} v_0^2}\n",
    "\\end{align}\n",
    "$$\n",
    "\n",
    "From Eqs. \\ref{eq:f_x_over_f_y_def} and \\ref{eq:fx_def}, we get\n",
    "\n",
    "$$\n",
    "\\label{eq:fy_def}\n",
    "f_y = \\frac{f_x}{\\sqrt{\\frac{b_4}{b_1} - \\frac{b_2^2}{b_1^2}}}\n",
    "$$\n",
    "\n",
    "From Eqs. \\ref{eq:b1_def} and \\ref{eq:fx_def}, we get\n",
    "\n",
    "$$\n",
    "\\lambda_c = b_1 f_x^2\n",
    "$$"
   ]
  },
  {
   "cell_type": "code",
   "execution_count": 37,
   "metadata": {
    "collapsed": false
   },
   "outputs": [
    {
     "name": "stdout",
     "output_type": "stream",
     "text": [
      "2724.39 77.4563 1057.33\n",
      "      0 2627.25 1404.68\n",
      "      0       0  1.1937\n"
     ]
    },
    {
     "data": {
      "text/plain": [
       "(std::__1::basic_ostream &) @0x7fffb1f8d660\n"
      ]
     },
     "execution_count": 37,
     "metadata": {},
     "output_type": "execute_result"
    }
   ],
   "source": [
    "double v0 = (V(0, 5) * V(4, 5) - V(1, 5) * V(2, 5)) / (std::pow(V(1, 5), 2) - V(0, 5) * V(3, 5));\n",
    "double u0 = -1 / V(0, 5) * (V(2, 5) + V(1, 5) * v0);\n",
    "double fx = std::sqrt(V(5, 5) / V(0, 5) - std::pow(V(2, 5) / V(0, 5), 2) - V(3, 5) * std::pow(v0, 2) / V(0, 5) + \n",
    "                         std::pow(V(1, 5) / V(0, 5) * v0, 2));\n",
    "double fy = fx / std::sqrt(V(3, 5) / V(0, 5) - std::pow(V(1, 5) / V(0, 5), 2));\n",
    "double s = -V(1, 5) / V(0, 5) * fy;\n",
    "double lambda_c = V(0, 5) * std::pow(fx, 2);\n",
    "\n",
    "Eigen::Matrix3d K;\n",
    "K << fx, s, u0,\n",
    "    0, fy, v0,\n",
    "    0, 0, 1;\n",
    "K = K / std::sqrt(lambda_c);\n",
    "std::cout << K << std::endl;"
   ]
  },
  {
   "cell_type": "markdown",
   "metadata": {
    "collapsed": true
   },
   "source": [
    "Calculate the error between $\\matrix{B_{3\\times3}}$ and $\\matrix{K_{3\\times3}}^{-T}\\matrix{K_{3\\times3}}^{-1}$ for sanity testing."
   ]
  },
  {
   "cell_type": "code",
   "execution_count": 38,
   "metadata": {
    "collapsed": false
   },
   "outputs": [
    {
     "name": "stdout",
     "output_type": "stream",
     "text": [
      "-2.64698e-23  1.65436e-24  2.71051e-20\n",
      " 1.65436e-24 -2.64698e-23  2.71051e-20\n",
      " 2.71051e-20  2.71051e-20            0\n"
     ]
    },
    {
     "data": {
      "text/plain": [
       "(std::__1::basic_ostream &) @0x7fffb1f8d660\n"
      ]
     },
     "execution_count": 38,
     "metadata": {},
     "output_type": "execute_result"
    }
   ],
   "source": [
    "Eigen::Matrix3d B;\n",
    "B << V(0, 5), V(1, 5), V(2, 5),\n",
    "    V(1, 5), V(3, 5), V(4, 5),\n",
    "    V(2, 5), V(4, 5), V(5, 5);\n",
    "Eigen::Matrix3d Kinv = K.inverse();\n",
    "std::cout << B - Kinv.transpose() * Kinv << std::endl;"
   ]
  },
  {
   "cell_type": "code",
   "execution_count": null,
   "metadata": {
    "collapsed": true
   },
   "outputs": [],
   "source": []
  }
 ],
 "metadata": {
  "anaconda-cloud": {},
  "kernelspec": {
   "display_name": "C++",
   "language": "",
   "name": "cling"
  },
  "language_info": {
   "codemirror_mode": "text/x-c++src",
   "file_extension": ".c++",
   "mimetype": " text/x-c++src",
   "name": "c++"
  }
 },
 "nbformat": 4,
 "nbformat_minor": 0
}
