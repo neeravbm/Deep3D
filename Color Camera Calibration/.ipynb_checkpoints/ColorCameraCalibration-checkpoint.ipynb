{
 "cells": [
  {
   "cell_type": "markdown",
   "metadata": {},
   "source": [
    "# Color Camera Calibration"
   ]
  },
  {
   "cell_type": "markdown",
   "metadata": {},
   "source": [
    "Ideal pin-hole camera model is given by:\n",
    "\\begin{equation}\n",
    "\\begin{bmatrix} x \\\\ y \\\\ 1 \\end{bmatrix} = \n",
    "  \\frac{1}{\\lambda} \\begin{bmatrix} f_x & s & u_0 \\\\ 0 & f_y & v_0 \\\\ 0 & 0 & 1 \\end{bmatrix} \n",
    "  \\begin{bmatrix} \\matrix{R_{3\\times3}} & \\matrix{T_{3\\times1}} \\end{bmatrix}\n",
    "  \\begin{bmatrix} X \\\\ Y \\\\ Z \\\\ 1 \\end{bmatrix}\n",
    "  \\label{eq:full}\n",
    "\\end{equation}\n",
    "where  \n",
    "$x$, $y$ are the image coordinates,  \n",
    "$X$, $Y$, $Z$ are the world-coordinates of the point to be imaged,  \n",
    "$f_x$, $f_y$ are the focal lenghts in $x$ and $y$ image axes,  \n",
    "$s$ is the skew between $x$ and $y$ image axes,  \n",
    "$(u_0, v_0)$ is the image center (intersection of image plane with principal axis),  \n",
    "$\\matrix{R_{3\\times3}}$, $\\matrix{T_{3\\times3}}$ are the extrinsic camera parameters, and  \n",
    "$\\lambda$ is the scale factor.\n",
    "\n",
    "Goal of camera calibration is to determine the above parameters from one or more images. Eq. \\ref{eq:full} can be written as:\n",
    "\n",
    "\\begin{equation}\n",
    "    \\lambda \\begin{bmatrix} x \\\\ y \\\\ 1 \\end{bmatrix} = \n",
    "    \\matrix{M_{3\\times4}}\n",
    "    \\begin{bmatrix} X \\\\ Y \\\\ Z \\\\ 1 \\end{bmatrix}\n",
    "\\end{equation}\n",
    "\n",
    "where\n",
    "\n",
    "\\begin{equation}\n",
    "  \\matrix{M_{3\\times4}} = \\begin{bmatrix} f_x & s & u_0 \\\\ 0 & f_y & v_0 \\\\ 0 & 0 & 1 \\end{bmatrix} \n",
    "  \\begin{bmatrix} \\matrix{R_{3\\times3}} & \\matrix{T_{3\\times1}} \\end{bmatrix}\n",
    "\\end{equation}\n",
    "  \n",
    "We are going to be using the following checkerboard pattern for calibration.\n",
    "\n",
    "![9 x 7 checkerboard pattern](images/camera-calibration-checker-board_9x7.png)\n",
    "\n",
    "Since the pattern lies in a plane, without loss of generality, we can assume that it lies on the plane $Z = 0$ in the world reference."
   ]
  },
  {
   "cell_type": "markdown",
   "metadata": {},
   "source": [
    "OpenCV include files are located in `/Users/neeravbm/Documents/libs/opencv/dist/osx-release-clang/build/x86_64-MacOSX/install/include` directory and `/Users/neeravbm/Documents/libs/opencv/dist/osx-release-clang/build/x86_64-MacOSX/install/lib` is in library search path. Add the include path."
   ]
  },
  {
   "cell_type": "code",
   "execution_count": 1,
   "metadata": {
    "collapsed": false
   },
   "outputs": [
    {
     "data": {
      "text/plain": []
     },
     "execution_count": 1,
     "metadata": {},
     "output_type": "execute_result"
    }
   ],
   "source": [
    ".I /Users/neeravbm/Documents/libs/OpenCV/builds/osx-shared-release-clang/dist/include"
   ]
  },
  {
   "cell_type": "markdown",
   "metadata": {},
   "source": [
    "Load the OpenCV `core` library."
   ]
  },
  {
   "cell_type": "code",
   "execution_count": 2,
   "metadata": {
    "collapsed": false
   },
   "outputs": [
    {
     "data": {
      "text/plain": []
     },
     "execution_count": 2,
     "metadata": {},
     "output_type": "execute_result"
    }
   ],
   "source": [
    ".L /Users/neeravbm/Documents/libs/OpenCV/builds/osx-shared-release-clang/dist/lib/libopencv_core.dylib"
   ]
  },
  {
   "cell_type": "markdown",
   "metadata": {},
   "source": [
    "Load the OpenCV `imgproc` library. This is needed since we are using `cv::CvSize` struct."
   ]
  },
  {
   "cell_type": "code",
   "execution_count": 3,
   "metadata": {
    "collapsed": false
   },
   "outputs": [
    {
     "data": {
      "text/plain": []
     },
     "execution_count": 3,
     "metadata": {},
     "output_type": "execute_result"
    }
   ],
   "source": [
    ".L /Users/neeravbm/Documents/libs/OpenCV/builds/osx-shared-release-clang/dist/lib/libopencv_imgproc.dylib"
   ]
  },
  {
   "cell_type": "markdown",
   "metadata": {},
   "source": [
    "Load the OpenCV `highgui` library, which is needed for `imread()` function."
   ]
  },
  {
   "cell_type": "code",
   "execution_count": 4,
   "metadata": {
    "collapsed": false
   },
   "outputs": [
    {
     "data": {
      "text/plain": []
     },
     "execution_count": 4,
     "metadata": {},
     "output_type": "execute_result"
    }
   ],
   "source": [
    ".L /Users/neeravbm/Documents/libs/OpenCV/builds/osx-shared-release-clang/dist/lib/libopencv_highgui.dylib"
   ]
  },
  {
   "cell_type": "markdown",
   "metadata": {},
   "source": [
    "Load the OpenCV `calib3d` library, which is needed for `findChessboardCorners()` function."
   ]
  },
  {
   "cell_type": "code",
   "execution_count": 5,
   "metadata": {
    "collapsed": false
   },
   "outputs": [
    {
     "data": {
      "text/plain": []
     },
     "execution_count": 5,
     "metadata": {},
     "output_type": "execute_result"
    }
   ],
   "source": [
    ".L /Users/neeravbm/Documents/libs/OpenCV/builds/osx-shared-release-clang/dist/lib/libopencv_calib3d.dylib"
   ]
  },
  {
   "cell_type": "code",
   "execution_count": 6,
   "metadata": {
    "collapsed": false
   },
   "outputs": [
    {
     "data": {
      "text/plain": []
     },
     "execution_count": 6,
     "metadata": {},
     "output_type": "execute_result"
    }
   ],
   "source": [
    "#include <opencv2/opencv.hpp>"
   ]
  },
  {
   "cell_type": "code",
   "execution_count": 7,
   "metadata": {
    "collapsed": false
   },
   "outputs": [
    {
     "data": {
      "text/plain": []
     },
     "execution_count": 7,
     "metadata": {},
     "output_type": "execute_result"
    }
   ],
   "source": [
    "#include <opencv2/imgproc.hpp>"
   ]
  },
  {
   "cell_type": "code",
   "execution_count": 8,
   "metadata": {
    "collapsed": false
   },
   "outputs": [
    {
     "data": {
      "text/plain": []
     },
     "execution_count": 8,
     "metadata": {},
     "output_type": "execute_result"
    }
   ],
   "source": [
    "#include <iostream>"
   ]
  },
  {
   "cell_type": "markdown",
   "metadata": {},
   "source": [
    "Read the pattern from the file."
   ]
  },
  {
   "cell_type": "code",
   "execution_count": 9,
   "metadata": {
    "collapsed": false
   },
   "outputs": [
    {
     "data": {
      "text/plain": [
       "(cv::Mat &) @0x102da4930\n"
      ]
     },
     "execution_count": 9,
     "metadata": {},
     "output_type": "execute_result"
    }
   ],
   "source": [
    "cv::Mat pattern = cv::imread(\"images/camera-calibration-checker-board_9x7.png\", CV_LOAD_IMAGE_GRAYSCALE);"
   ]
  },
  {
   "cell_type": "markdown",
   "metadata": {},
   "source": [
    "Use OpenCV's `findChessboardCorners()` function with `CALIB_CB_FAST_CHECK` flag to see if a calibration pattern was found in the pattern image."
   ]
  },
  {
   "cell_type": "code",
   "execution_count": 10,
   "metadata": {
    "collapsed": false
   },
   "outputs": [
    {
     "data": {
      "text/plain": [
       "(bool) true\n"
      ]
     },
     "execution_count": 10,
     "metadata": {},
     "output_type": "execute_result"
    }
   ],
   "source": [
    "std::vector<cv::Point2f> corners;\n",
    "bool patternFound = cv::findChessboardCorners(pattern, cv::Size(7, 9), corners, cv::CALIB_CB_FAST_CHECK);"
   ]
  },
  {
   "cell_type": "markdown",
   "metadata": {},
   "source": [
    "If calibration pattern was not found, then print an error and return."
   ]
  },
  {
   "cell_type": "code",
   "execution_count": 11,
   "metadata": {
    "collapsed": false
   },
   "outputs": [
    {
     "data": {
      "text/plain": []
     },
     "execution_count": 11,
     "metadata": {},
     "output_type": "execute_result"
    }
   ],
   "source": [
    "if (!patternFound) {\n",
    "    std::cerr << \"Calibration pattern was not found.\" << std::endl;\n",
    "    return -1;\n",
    "}"
   ]
  },
  {
   "cell_type": "markdown",
   "metadata": {},
   "source": [
    "If calibration pattern was found, refine the corner estimates further using OpenCV's `cornerSubPix()` function. This is a sample code copied from OpenCV's website. I still need to look in more details what it exactly does."
   ]
  },
  {
   "cell_type": "code",
   "execution_count": 12,
   "metadata": {
    "collapsed": false
   },
   "outputs": [
    {
     "data": {
      "text/plain": [
       "(void) @0x7fff5e563fa8\n"
      ]
     },
     "execution_count": 12,
     "metadata": {},
     "output_type": "execute_result"
    }
   ],
   "source": [
    "cv::cornerSubPix(pattern, corners, cv::Size(11, 11), cv::Size(-1, -1), cv::TermCriteria(CV_TERMCRIT_EPS + CV_TERMCRIT_ITER, 30, 0.1));"
   ]
  },
  {
   "cell_type": "markdown",
   "metadata": {},
   "source": [
    "Draw the corners on the image using OpenCV's `drawChessboardCorners()` function."
   ]
  },
  {
   "cell_type": "code",
   "execution_count": 13,
   "metadata": {
    "collapsed": false
   },
   "outputs": [
    {
     "data": {
      "text/plain": [
       "(void) @0x7fff5e563fa8\n"
      ]
     },
     "execution_count": 13,
     "metadata": {},
     "output_type": "execute_result"
    }
   ],
   "source": [
    "cv::drawChessboardCorners(pattern, cv::Size(7, 9), cv::Mat(corners), patternFound);"
   ]
  },
  {
   "cell_type": "code",
   "execution_count": 14,
   "metadata": {
    "collapsed": false
   },
   "outputs": [
    {
     "name": "stderr",
     "output_type": "stream",
     "text": [
      "\n",
      "bit length overflow\n",
      "code 5 bits 6->7\n",
      "\n",
      "bit length overflow\n",
      "code 5 bits 5->6\n"
     ]
    },
    {
     "data": {
      "text/plain": [
       "(bool) true\n"
      ]
     },
     "execution_count": 14,
     "metadata": {},
     "output_type": "execute_result"
    }
   ],
   "source": [
    "std::vector<int> compression_params;\n",
    "compression_params.push_back(CV_IMWRITE_PNG_COMPRESSION);\n",
    "compression_params.push_back(9);\n",
    "cv::imwrite(\"images/camera-calibration-checker-board-with-corners_9x7.png\", pattern, compression_params);"
   ]
  },
  {
   "cell_type": "markdown",
   "metadata": {},
   "source": [
    "This is how the patten with identified corners looks:\n",
    "![Calibration checkerboard pattern with corners identified](images/camera-calibration-checker-board-with-corners_9x7.png)"
   ]
  },
  {
   "cell_type": "markdown",
   "metadata": {},
   "source": [
    "Given a photo of the $7 \\times 9$ checkerboard calibration pattern, we need to find all the intrinsic and extrinsic parameters of the camera. Without loss of generality, we can assume that the pattern lies on $Z = 0$ world plane. In that case, \\ref{eq:full} can be written as:\n",
    "\n",
    "\\begin{equation}\n",
    "\\begin{bmatrix} x \\\\ y \\\\ 1 \\end{bmatrix} = \n",
    "  \\frac{1}{\\lambda} \\matrix{K_{3\\times3}} \n",
    "  \\begin{bmatrix} \\matrix{r_1} & \\matrix{r_2} & \\matrix{T_{3\\times1}} \\end{bmatrix}\n",
    "  \\begin{bmatrix} X \\\\ Y \\\\ 1 \\end{bmatrix}\n",
    "  \\label{eq:not-full}\n",
    "\\end{equation}\n",
    "\n",
    "where\n",
    "\n",
    "\\begin{equation}\n",
    "\\matrix{K_{3\\times3}} = \\begin{bmatrix} f_x & s & u_0 \\\\ 0 & f_y & v_0 \\\\ 0 & 0 & 1 \\end{bmatrix}\n",
    "\\end{equation}\n",
    "\n",
    "and\n",
    "\n",
    "\\begin{equation}\n",
    "\\matrix{R_{3\\times3}} = \\begin{bmatrix} \\matrix{r_1} & \\matrix{r_2} & \\matrix{r_3} \\end{bmatrix}\n",
    "\\end{equation}\n",
    "\n",
    "Let\n",
    "\n",
    "\\begin{equation}\n",
    "\\matrix{M_{3\\times3}} = \\frac{1}{\\lambda} \\matrix{K_{3\\times3}} \\begin{bmatrix} \\matrix{r_1} & \\matrix{r_2} & \\matrix{T_{3\\times1}} \\end{bmatrix}\n",
    "\\end{equation}\n",
    "\n",
    "Linearizing,\n",
    "\n",
    "\\begin{equation}\n",
    "x = m_{11} X + m_{12} Y + m_{13}\\\\\n",
    "y = m_{21} X + m_{22} Y + m_{23}\\\\\n",
    "1 = m_{31} X + m_{32} Y + m_{33}\n",
    "\\end{equation}\n",
    "\n",
    "Unfortunately the third equation above has a trivial solution: $m_{31} = 0$, $m_{32} = 0$ and $m_{33} = 1$. So we can't use above set of equations solely to get $\\matrix{M_{3\\times 3}}$.\n",
    "\n",
    "Based on the structure of $\\matrix{K_{3\\times3}}$, we know that it's non-singular and hence, invertible.\n",
    "\n",
    "$$\n",
    "\\begin{align}\n",
    "\\therefore \\begin{bmatrix} \\matrix{r_1} & \\matrix{r_2} & \\matrix{T_{3\\times1}} \\end{bmatrix} & = \n",
    "\\lambda \\matrix{K_{3\\times3}}^{-1} \\matrix{M_{3\\times3}}\\\\\n",
    "& = \\lambda \\matrix{K_{3\\times3}}^{-1} \\begin{bmatrix} \\matrix{m_1} & \\matrix{m_2} & \\matrix{m_3} \\end{bmatrix}\n",
    "\\end{align}\n",
    "$$\n",
    "\n",
    "where $\\matrix{m_1}$, $\\matrix{m_2}$ and $\\matrix{m_3}$ are the column vectors of $\\matrix{M_{3\\times3}}$.\n",
    "\n",
    "In other words,\n",
    "\n",
    "$$\n",
    "\\begin{align}\n",
    "\\matrix{r_1} & = \\lambda \\matrix{K_{3\\times3}}^{-1} \\matrix{m_1},\\\\\n",
    "\\matrix{r_2} & = \\lambda \\matrix{K_{3\\times3}}^{-1} \\matrix{m_2}, \\text{and}\\\\\n",
    "\\matrix{T_{3\\times1}} & = \\lambda \\matrix{K_{3\\times3}}^{-1} \\matrix{m_3},\n",
    "\\end{align}\n",
    "$$\n",
    "\n",
    "We know that $\\matrix{R_{3\\times3}}$ is a rotation matrix and hence $\\matrix{r_1}$ and $\\matrix{r_2}$ are orthonormal.\n",
    "\n",
    "$$\n",
    "\\begin{align}\n",
    "\\therefore 0 & = \\matrix{r_1}^T \\matrix{r_2}\\\\\n",
    "& = \\lambda^2 \\matrix{m_1}^T \\matrix{K_{3\\times3}}^{-T} \\matrix{K_{3\\times3}}^{-1} \\matrix{m_2}\\\\\n",
    "& = \\matrix{m_1}^T \\matrix{K_{3\\times3}}^{-T} \\matrix{K_{3\\times3}}^{-1} \\matrix{m_2}\n",
    "\\label{eq:r_ortho}\n",
    "\\end{align}\n",
    "$$\n",
    "\n",
    "and\n",
    "\n",
    "$$\n",
    "\\begin{align}\n",
    "1 & = \\matrix{r_1}^T \\matrix{r_1} & = \\matrix{r_2}^T \\matrix{r_2}\\\\\n",
    "& = \\lambda^2 \\matrix{m_1}^T \\matrix{K_{3\\times3}}^{-T} \\matrix{K_{3\\times3}}^{-1} \\matrix{m_1} & = \\lambda^2 \\matrix{m_2}^T \\matrix{K_{3\\times3}}^{-T} \\matrix{K_{3\\times3}}^{-1} \\matrix{m_2}\\\\\n",
    "\\end{align}\n",
    "$$\n",
    "\n",
    "\\begin{equation}\n",
    "\\therefore \\matrix{m_1}^T \\matrix{K_{3\\times3}}^{-T} \\matrix{K_{3\\times3}}^{-1} \\matrix{m_1} = \\matrix{m_2}^T \\matrix{K_{3\\times3}}^{-T} \\matrix{K_{3\\times3}}^{-1} \\matrix{m_2}\n",
    "\\label{eq:r_norm}\n",
    "\\end{equation}\n",
    "\n",
    "Let $\\matrix{B_{3\\times3}} = \\matrix{K_{3\\times3}}^{-T} \\matrix{K_{3\\times3}}^{-1}$. Simplifying \\ref{eq:r_ortho} and \\ref{eq:r_norm}, we get\n",
    "\n",
    "\\begin{equation}\n",
    "\\matrix{m_1}^T \\matrix{B_{3\\times3}} \\matrix{m_2} = 0, \\text{and}\\\\\n",
    "\\matrix{m_1}^T \\matrix{B_{3\\times3}} \\matrix{m_1} = \\matrix{m_2}^T \\matrix{B_{3\\times3}} \\matrix{m_2}\n",
    "\\end{equation}\n",
    "\n",
    "\\begin{equation}\n",
    "\\therefore \\begin{bmatrix} x \\\\ y \\\\ 1 \\end{bmatrix} =\n",
    "\\begin{bmatrix}\n",
    "    X & Y & 1 & 0 & 0 & 0 & 0 & 0 & 0\\\\\n",
    "    0 & 0 & 0 & X & Y & 1 & 0 & 0 & 0\\\\\n",
    "    0 & 0 & 0 & 0 & 0 & 0 & X & Y & 1\n",
    "\\end{bmatrix}\n",
    "\\begin{bmatrix} m_{11} \\\\ m_{12} \\\\ m_{13} \\\\ m_{21} \\\\ m_{22} \\\\ m_{23} \\\\ m_{31} \\\\ m_{32} \\\\ m_{33} \\end{bmatrix}\n",
    "\\end{equation}\n",
    "\n",
    "We get above equation for every corner. Concatenate all $7 \\times 9 = 63$ of them and vector $\\underline{m}$ can be obtained as the right vector corresponding to the smallest singular value."
   ]
  },
  {
   "cell_type": "code",
   "execution_count": null,
   "metadata": {
    "collapsed": true
   },
   "outputs": [],
   "source": [
    "\n"
   ]
  }
 ],
 "metadata": {
  "anaconda-cloud": {},
  "kernelspec": {
   "display_name": "C++",
   "language": "",
   "name": "cling"
  },
  "language_info": {
   "codemirror_mode": "text/x-c++src",
   "file_extension": ".c++",
   "mimetype": " text/x-c++src",
   "name": "c++"
  }
 },
 "nbformat": 4,
 "nbformat_minor": 0
}
